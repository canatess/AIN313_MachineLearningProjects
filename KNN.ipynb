{
  "nbformat": 4,
  "nbformat_minor": 0,
  "metadata": {
    "colab": {
      "provenance": []
    },
    "kernelspec": {
      "name": "python3",
      "display_name": "Python 3"
    },
    "language_info": {
      "name": "python"
    }
  },
  "cells": [
    {
      "cell_type": "markdown",
      "source": [
        "# ***AIN 313 - Assignment 1***\n",
        "\n",
        "### ***Instructor:*** Erkut Erdem\n",
        "### ***Assistant:*** Sibel Kapan\n",
        "### ***Topic:*** k-Nearest Neighbor\n",
        "### ***Subject:*** Disease Detection on X-Ray Images\n",
        "### ***Student Info:*** Can Ali Ateş\n",
        "### ***Student ID:*** 2200765002"
      ],
      "metadata": {
        "id": "qxJQg6jeGTST"
      }
    },
    {
      "cell_type": "markdown",
      "source": [
        "# ***PART I - Theory Questions***\n"
      ],
      "metadata": {
        "id": "4ZrWU9L7XDLG"
      }
    },
    {
      "cell_type": "markdown",
      "source": [
        "## ***k-Nearest Neighbor Classification Questions***\n",
        "\n",
        "![Question1](https://drive.google.com/uc?id=1VwvzpUNDQH9m_GEXaHai_J7bA5RnpZ-m)\n",
        "\n",
        "### ***Answer 1*** :\n",
        "### Large training dataset degrades the algorithm performance and  requires more memory during distance calculation stage because the algorithm has to calculate the distance of each new data point to existing points, so cost will huge. As a result, large training dataset makes algorithm slower and need much memory so it's a disadvantage.\n",
        "\n",
        "<br>\n",
        "\n",
        "![Question2](https://drive.google.com/uc?id=1c0H3KwhJB9_MK_KHXzbbj0ghzMNg2Jpl)\n",
        "\n",
        "<br>\n",
        "\n",
        "### ***Answer 2.1*** :\n",
        "![Answer1](https://drive.google.com/uc?id=1kRQLOzgxHf2sAoWXnIU7TuUDIUPSyqts)\n",
        "\n",
        "<br>\n",
        "\n",
        "### ***Answer 2.2*** :\n",
        "### The algorithm calculates the distances between unknown point and existing points based on a distance metric such as euclidean, then classifies unknown point by the value of the point with the lowest distance value. \n",
        "### According to question, (2,4) and (3,3) points will have the lowest distance but both of these points has positive value so it will not affect the unknown point sign. As a result, the closest point to unknown point will have positive sign so unknown point is going to classify as positive.\n",
        "\n",
        "<br>\n",
        "\n",
        "### ***Answer 2.3*** :\n",
        "### k = 1 ---> (2,4) or (3,3) ---> Positive\n",
        "### k = 2 ---> (2,4) and (3,3) ---> Positive\n",
        "### k = 3 ---> (1,4), (2,4) and (3,3) ---> Positive\n",
        "### k = 4 ---> (1,1) or (3,1), (1,4), (2,4) and (3,3) ---> Unknown\n",
        "### k = 5 ---> (1,1), (3,1), (1,4), (2,4) and (3,3) ---> Negative\n",
        "### Based on the different k-values, the minimum k-value required to classify the unknown point as negative is 5.\n",
        "\n",
        "<br>\n",
        "\n",
        "### ***Answer 2.4*** :\n",
        "### Small value of k gives a high impact chance to noise. When the noise is close to unknown point and k is too small, noise will affect the classification easily so classification is going to wrong. Model could be overfitted when k is too small.\n",
        "### Large value of k decreases the performance of algorithm because when k is too large the algorithm has to do a lot of distance calculations so computational cost will increase. Model could be underfitted when k is too large.\n",
        "\n",
        "<br>\n",
        "\n",
        "## ***Linear Regression Questions***\n",
        "\n",
        "![Question3](https://drive.google.com/uc?id=11Oskt_rEgnu4Z2AwKMiDEiZ9Z7b64ngV)\n",
        "\n",
        "<br>\n",
        "\n",
        "### ***Answer 1*** :\n",
        "### $MSE = \\frac{1}{n}\\sum_{i=1}^n (y_i - ŷ_i)^2$\n",
        "### $E_1 = (1.6 - (0.5 * 1.0 + 1.0))^2 = 0.01$\n",
        "### $E_2 = (1.5 - (0.5 * 1.5 + 1.0))^2 = 0.0625$\n",
        "### $E_3 = (2.4 - (0.5 * 3.0 + 1.0))^2 = 0.01$\n",
        "### $MSE = \\frac{(0.01 + 0.0625 + 0.01)}{3} = \\frac{0.0825}{3} = 0.0275$\n",
        "\n",
        "<br>\n",
        "\n",
        "![Question4](https://drive.google.com/uc?id=1lm2e0EsWpnF3rn_Phl89fIkwTjdDM2ND)\n",
        "\n",
        "<br>\n",
        "\n",
        "### ***Answer 2*** :\n",
        "### $θ$ is Parameter Vector with 4x1 dimension.\n",
        "### $X$ is Input Sequence with 14x4 dimension.\n",
        "### $Y$ is Measured Values with 14x1 dimension.\n",
        "\n",
        "<br>\n",
        "\n",
        "![Question5](https://drive.google.com/uc?id=1m9l6OmwhxNvuU2Nm1LsQerl6Z3Gy0vK9)\n",
        "\n",
        "<br>\n",
        "\n",
        "### ***Answer 3*** :\n",
        "### $x^{(7)}_2$ means 7th row 2nd column record so the value is 2916\n",
        "### $529 \\le x_2\\le 8464$ so the range is 7935\n",
        "### $\\overline{x_2} = \\frac{5625 + 1849 + 8464 + 529 + 4225 + 7396 + 2916}{7} = 4429,14$\n",
        "### $x^{(7)}_2 = \\frac{x^{(7)}_2 - \\overline{x_2}}{Range(x_2)} = \\frac{2916 - 4429,14}{7935} = -0.190$\n",
        "### Normalized value of $x^{(7)}_2$ equals to $-0.190$"
      ],
      "metadata": {
        "id": "TIO_ye5iyO28"
      }
    },
    {
      "cell_type": "markdown",
      "source": [
        "# ***PART II - Disease Detection from X-Ray Images***"
      ],
      "metadata": {
        "id": "1af0bix4OLEq"
      }
    },
    {
      "cell_type": "markdown",
      "source": [
        "### ***Upload Dataset***"
      ],
      "metadata": {
        "id": "R1O5QsK7l7gq"
      }
    },
    {
      "cell_type": "code",
      "source": [
        "# Update G-Down to avoid possible errors.\n",
        "!pip install --upgrade --no-cache-dir gdown\n",
        "\n",
        "# Download the dataset from Google Drive to Google Colab.\n",
        "!gdown --id 18GFlfav8wCmuX3r0Y_BEH5imWIEK7OQT\n",
        "\n",
        "# Extract zip files.\n",
        "!unzip \"chest_xray.zip\" "
      ],
      "metadata": {
        "id": "6zPPwofnM4bX"
      },
      "execution_count": null,
      "outputs": []
    },
    {
      "cell_type": "markdown",
      "source": [
        "### ***Import Necessary Libraries***"
      ],
      "metadata": {
        "id": "6gKNINiMmInx"
      }
    },
    {
      "cell_type": "code",
      "source": [
        "# Import libraries.\n",
        "import os\n",
        "import cv2\n",
        "import numpy as np\n",
        "import pandas as pd\n",
        "import seaborn as sns\n",
        "from collections import Counter\n",
        "import matplotlib.pyplot as plt\n",
        "from google.colab.patches import cv2_imshow\n",
        "from sklearn.metrics import confusion_matrix"
      ],
      "metadata": {
        "id": "ziZhJ3jKJWAh"
      },
      "execution_count": null,
      "outputs": []
    },
    {
      "cell_type": "markdown",
      "source": [
        "### ***Read Images and Extract Features***"
      ],
      "metadata": {
        "id": "EMILWXz7mOmf"
      }
    },
    {
      "cell_type": "code",
      "source": [
        "def dataset_initializer(dataset_type, image_size):\n",
        "  \n",
        "  # Create a list to store features of images.\n",
        "  dataset = list()\n",
        "\n",
        "  # Iterate over each image.\n",
        "  for folder in os.listdir(f\"chest_xray/{dataset_type}\"):\n",
        "    for file in os.listdir(f\"chest_xray/{dataset_type}/{folder}\"):\n",
        "\n",
        "      # Read image as grayscale.\n",
        "      image = cv2.imread(f\"chest_xray/{dataset_type}/{folder}/{file}\", 0)\n",
        "\n",
        "      # Resize image to NxN dimensions.\n",
        "      image = cv2.resize(image, (image_size, image_size))\n",
        "\n",
        "      # Blur the image for noise cancellation.\n",
        "      blurred_image = cv2.GaussianBlur(image, (3, 3), 0)\n",
        "\n",
        "      # Apply threshold for noise cancellation.\n",
        "      _, lung_threshold = cv2.threshold(blurred_image, 50, 255, cv2.THRESH_BINARY + cv2.THRESH_OTSU)\n",
        "      \n",
        "      # Create 1D array from threshold pixels of image. [FEATURE EXTRACTED]\n",
        "      threshold_feature = lung_threshold.flatten()\n",
        "\n",
        "      # Detect lungs in image with Canny Edge Detection.\n",
        "      lung_edges = cv2.Canny(blurred_image, 50, 150)\n",
        "\n",
        "      # Create 1D array from edge detected pixels of image. [FEATURE EXTRACTED]\n",
        "      canny_feature = lung_edges.flatten()\n",
        "\n",
        "      # Create a Gabor Kernel.\n",
        "      gabor_kernel = cv2.getGaborKernel((10, 10), 8.0, np.pi/2, np.pi/4, 0.5, 0.8, ktype=cv2.CV_32F)\n",
        "\n",
        "      # Detect lungs in image with applying Gabor Filter.\n",
        "      filtered_img = cv2.filter2D(blurred_image, cv2.CV_8UC3, gabor_kernel)\n",
        "\n",
        "      # Create 1D array from lung detected pixels of image. [FEATURE EXTRACTED]\n",
        "      gabor_feature = filtered_img.flatten()\n",
        "      \n",
        "      # Create a record with extracted features and label.\n",
        "      data = [threshold_feature, canny_feature, gabor_feature, file.split(\"-\")[0]]\n",
        "\n",
        "      # Add record to dataset list.\n",
        "      dataset.append(data)\n",
        "\n",
        "  # Return dataset.\n",
        "  return dataset"
      ],
      "metadata": {
        "id": "1okEmhk4J8J4"
      },
      "execution_count": null,
      "outputs": []
    },
    {
      "cell_type": "markdown",
      "source": [
        "### ***Implement Euclidean Distance Algorithm***"
      ],
      "metadata": {
        "id": "diHB3CbsqDIg"
      }
    },
    {
      "cell_type": "code",
      "source": [
        "def euclidean_distance(x_train, test_point):\n",
        "  \n",
        "  # Create a list to store distances between test point and train points.\n",
        "  distances = list()\n",
        "\n",
        "  # Iteate over the train points.\n",
        "  for row_index in x_train.index:\n",
        "      \n",
        "      # Initialize distance between train and test point to 0.\n",
        "      current_distance = 0\n",
        "\n",
        "      # Subtract the features from each other.\n",
        "      threshold_distance =  np.subtract(x_train[\"Threshold_Pixels\"][row_index], test_point[\"Threshold_Pixels\"])\n",
        "      canny_distance = np.subtract(x_train[\"Canny_Pixels\"][row_index], test_point[\"Canny_Pixels\"])\n",
        "      gabor_distance = np.subtract(x_train[\"Gabor_Pixels\"][row_index], test_point[\"Gabor_Pixels\"])\n",
        "\n",
        "      # Calculate square of subtracted features.\n",
        "      threshold_square = np.square(threshold_distance)\n",
        "      canny_square = np.square(canny_distance)\n",
        "      gabor_square = np.square(gabor_distance)\n",
        "\n",
        "      # Sum the squared difference of each feature.\n",
        "      current_distance = np.sum(threshold_square) + np.sum(canny_square) + np.sum(gabor_square)\n",
        "\n",
        "      # Calculate the square root of current distance to find the Euclidean Distance.\n",
        "      euclidean_distance = np.sqrt(current_distance)\n",
        "\n",
        "      # Add distance between train point and test point to distances list.\n",
        "      distances.append(euclidean_distance)\n",
        "\n",
        "  # Create a distance dataframe from the calculated distances.\n",
        "  distances = pd.DataFrame(distances, columns = [\"Distance\"])\n",
        "  \n",
        "  # Sort distances according to euclidean distance value.\n",
        "  distances = distances.sort_values(by = [\"Distance\"], axis = 0)\n",
        "\n",
        "  # Return the distances dataframe sorted in ascending order.\n",
        "  return distances"
      ],
      "metadata": {
        "id": "CXyjhwXOcgeV"
      },
      "execution_count": null,
      "outputs": []
    },
    {
      "cell_type": "markdown",
      "source": [
        "### ***Implement k-NN Algorithm***"
      ],
      "metadata": {
        "id": "imhHStyBnDn9"
      }
    },
    {
      "cell_type": "code",
      "source": [
        "def nearest_neighbors(x_train, y_train, test_point, K):\n",
        "  \n",
        "  # Determine nearest K neighbor points according to calculated distances.\n",
        "  nearest_distances = euclidean_distance(x_train, test_point)[:K]\n",
        "\n",
        "  # Count the disease types in nearest neighbors.\n",
        "  most_voted = Counter(y_train[nearest_distances.index])\n",
        "\n",
        "  # Predict the test point according to most voted disease type.\n",
        "  y_pred = most_voted.most_common()[0][0]\n",
        "\n",
        "  # Return the prediction result.\n",
        "  return y_pred"
      ],
      "metadata": {
        "id": "Wo9fIBYRm9xI"
      },
      "execution_count": null,
      "outputs": []
    },
    {
      "cell_type": "markdown",
      "source": [
        "### ***Implement Weighted k-NN Algorithm***"
      ],
      "metadata": {
        "id": "uMaEWg4nmsyr"
      }
    },
    {
      "cell_type": "code",
      "source": [
        "def weighted_nearest_neighbors(x_train, y_train, test_point, K):\n",
        "  \n",
        "  # Determine nearest K neighbor points according to calculated distances.\n",
        "  nearest_distances = euclidean_distance(x_train, test_point)[:K]\n",
        "\n",
        "  # Convert distances to determine weights of each distance.\n",
        "  nearest_distances = 1/nearest_distances \n",
        " \n",
        "  # Create a dict to store total weights of each disease type.\n",
        "  weights = dict()\n",
        "  \n",
        "  # Calculate total weight of each possible label. \n",
        "  for index in nearest_distances.index.values:\n",
        "    if weights.get(y_train[index]) != None:\n",
        "        weights[y_train[index]] += nearest_distances[\"Distance\"][index]\n",
        "    else:\n",
        "      weights[y_train[index]] = nearest_distances[\"Distance\"][index]\n",
        "\n",
        "  # Find maximum weighted label.\n",
        "  max_weighted = max(weights, key = weights.get)\n",
        "\n",
        "  # Return prediction label.\n",
        "  return max_weighted"
      ],
      "metadata": {
        "id": "xAKLeu61xvOT"
      },
      "execution_count": null,
      "outputs": []
    },
    {
      "cell_type": "markdown",
      "source": [
        "### ***Implement Confusion Matrix Visualizer Algorithm***"
      ],
      "metadata": {
        "id": "os7EqLV09N-Z"
      }
    },
    {
      "cell_type": "code",
      "source": [
        "def confusion_matrix_visualizer(matrix_1, matrix_2, matrix_3):\n",
        "\n",
        "  # Plot confusion matrix of k = 3.\n",
        "  plt.figure(figsize=(25, 7))\n",
        "  plt.subplot(1,3,1)\n",
        "  sns.heatmap(matrix_1, annot=True)\n",
        "  plt.title('Confusion Matrix of k = 3')\n",
        "  plt.ylabel('ActUal Values')\n",
        "  plt.xlabel('Predicted Values')\n",
        "\n",
        "  # Plot confusion matrix of k = 5.\n",
        "  plt.subplot(1,3,2)\n",
        "  sns.heatmap(matrix_2, annot=True)\n",
        "  plt.title('Confusion Matrix of k = 5')\n",
        "  plt.ylabel('ActUal Values')\n",
        "  plt.xlabel('Predicted Values')\n",
        "\n",
        "  # Plot confusion matrix of k = 7.\n",
        "  plt.subplot(1,3,3)\n",
        "  sns.heatmap(matrix_3, annot=True)\n",
        "  plt.title('Confusion Matrix of k = 7')\n",
        "  plt.ylabel('ActUal Values')\n",
        "  plt.xlabel('Predicted Values')\n",
        "\n",
        "  # Display the plots.\n",
        "  plt.show()"
      ],
      "metadata": {
        "id": "oVAbi6fa9VrX"
      },
      "execution_count": null,
      "outputs": []
    },
    {
      "cell_type": "markdown",
      "source": [
        "### ***Implement Model Performance Algorithm***"
      ],
      "metadata": {
        "id": "dYEV62td9m7a"
      }
    },
    {
      "cell_type": "code",
      "source": [
        "def model_performance(confusion_matrix):\n",
        "\n",
        "  # Calculate accuracy of each disease type.\n",
        "  A_covid = (confusion_matrix.iloc[0,0] + confusion_matrix.iloc[1,1] + confusion_matrix.iloc[1,2] + confusion_matrix.iloc[2,1] + confusion_matrix.iloc[2,2]) / confusion_matrix.values.sum()\n",
        "  A_pneumonia = (confusion_matrix.iloc[1,1] + confusion_matrix.iloc[0,0] + confusion_matrix.iloc[0,2] + confusion_matrix.iloc[2,0] + confusion_matrix.iloc[2,2]) / confusion_matrix.values.sum()\n",
        "  A_normal = (confusion_matrix.iloc[2,2] + confusion_matrix.iloc[0,0] + confusion_matrix.iloc[0,1] + confusion_matrix.iloc[1,0] + confusion_matrix.iloc[1,1]) / confusion_matrix.values.sum()\n",
        "  \n",
        "  # Calculate precision of each disease type.\n",
        "  P_covid = (confusion_matrix.iloc[0,0]) / sum(confusion_matrix.iloc[:, 0])\n",
        "  P_pneumonia = (confusion_matrix.iloc[1,1]) / sum(confusion_matrix.iloc[:, 1])\n",
        "  P_normal = (confusion_matrix.iloc[2,2]) / sum(confusion_matrix.iloc[:, 2])\n",
        "\n",
        "  # Calculate recall of each disease type.\n",
        "  R_pneumonia = (confusion_matrix.iloc[1,1]) / sum(confusion_matrix.iloc[1, :])\n",
        "  R_covid = (confusion_matrix.iloc[0,0]) / sum(confusion_matrix.iloc[0, :])\n",
        "  R_normal = (confusion_matrix.iloc[2,2]) / sum(confusion_matrix.iloc[2, :])\n",
        "\n",
        "  # Calculate average precision and recall to find model performance.\n",
        "  A_AVG = (A_covid + A_pneumonia + A_normal) / 3\n",
        "  P_AVG = (P_covid + P_pneumonia + P_normal) / 3\n",
        "  R_AVG = (R_covid + R_pneumonia + R_normal) / 3\n",
        "\n",
        "  # Print results.\n",
        "  print(f\"Accuracy: {A_AVG}\")\n",
        "  print(f\"Precision: {P_AVG}\")\n",
        "  print(f\"Recall: {R_AVG}\")"
      ],
      "metadata": {
        "id": "QbB9K7pV9r0f"
      },
      "execution_count": null,
      "outputs": []
    },
    {
      "cell_type": "markdown",
      "source": [
        "### ***32x32 Images***"
      ],
      "metadata": {
        "id": "2NbCpZU2AZAK"
      }
    },
    {
      "cell_type": "markdown",
      "source": [
        "### ***Create Train & Test DataFrames***"
      ],
      "metadata": {
        "id": "d_kbl62-mV7O"
      }
    },
    {
      "cell_type": "code",
      "source": [
        "# Create a train dataframe with 32x32 images.\n",
        "train_df = pd.DataFrame(dataset_initializer(\"train\", 32), columns=['Threshold_Pixels', \"Canny_Pixels\", \"Gabor_Pixels\", 'Disease'])\n",
        "\n",
        "# Display first 5 record of dataframe.\n",
        "train_df.head()"
      ],
      "metadata": {
        "colab": {
          "base_uri": "https://localhost:8080/",
          "height": 206
        },
        "id": "lpC_pcBXKyQ7",
        "outputId": "6e86db3b-d13e-4e07-db5f-e5ef8762c272"
      },
      "execution_count": null,
      "outputs": [
        {
          "output_type": "execute_result",
          "data": {
            "text/plain": [
              "                                    Threshold_Pixels  \\\n",
              "0  [0, 0, 0, 0, 0, 0, 0, 0, 0, 0, 0, 0, 0, 0, 0, ...   \n",
              "1  [255, 255, 255, 255, 255, 255, 255, 255, 255, ...   \n",
              "2  [0, 0, 0, 0, 0, 0, 0, 0, 0, 0, 0, 0, 255, 255,...   \n",
              "3  [0, 0, 0, 255, 255, 255, 255, 255, 255, 255, 2...   \n",
              "4  [0, 0, 0, 0, 0, 0, 0, 0, 0, 0, 0, 0, 0, 0, 0, ...   \n",
              "\n",
              "                                        Canny_Pixels  \\\n",
              "0  [0, 0, 255, 0, 0, 0, 0, 0, 0, 0, 0, 0, 0, 0, 0...   \n",
              "1  [0, 0, 0, 0, 0, 0, 0, 0, 255, 0, 255, 0, 0, 0,...   \n",
              "2  [0, 0, 0, 0, 0, 0, 255, 0, 0, 0, 0, 255, 0, 0,...   \n",
              "3  [0, 0, 255, 0, 0, 0, 0, 0, 0, 0, 255, 0, 0, 0,...   \n",
              "4  [0, 0, 0, 0, 0, 0, 0, 255, 0, 255, 0, 0, 0, 0,...   \n",
              "\n",
              "                                        Gabor_Pixels    Disease  \n",
              "0  [0, 0, 0, 0, 0, 0, 0, 0, 27, 43, 40, 28, 15, 0...  pneumonia  \n",
              "1  [124, 128, 133, 135, 111, 70, 45, 21, 13, 22, ...  pneumonia  \n",
              "2  [0, 0, 0, 0, 0, 0, 0, 0, 0, 0, 0, 0, 0, 0, 0, ...  pneumonia  \n",
              "3  [0, 0, 0, 0, 0, 0, 0, 0, 0, 14, 14, 22, 29, 34...  pneumonia  \n",
              "4  [13, 18, 34, 58, 70, 71, 65, 53, 48, 50, 52, 5...  pneumonia  "
            ],
            "text/html": [
              "\n",
              "  <div id=\"df-b6196f04-6ba3-47e8-acbb-c7ee11449b9f\">\n",
              "    <div class=\"colab-df-container\">\n",
              "      <div>\n",
              "<style scoped>\n",
              "    .dataframe tbody tr th:only-of-type {\n",
              "        vertical-align: middle;\n",
              "    }\n",
              "\n",
              "    .dataframe tbody tr th {\n",
              "        vertical-align: top;\n",
              "    }\n",
              "\n",
              "    .dataframe thead th {\n",
              "        text-align: right;\n",
              "    }\n",
              "</style>\n",
              "<table border=\"1\" class=\"dataframe\">\n",
              "  <thead>\n",
              "    <tr style=\"text-align: right;\">\n",
              "      <th></th>\n",
              "      <th>Threshold_Pixels</th>\n",
              "      <th>Canny_Pixels</th>\n",
              "      <th>Gabor_Pixels</th>\n",
              "      <th>Disease</th>\n",
              "    </tr>\n",
              "  </thead>\n",
              "  <tbody>\n",
              "    <tr>\n",
              "      <th>0</th>\n",
              "      <td>[0, 0, 0, 0, 0, 0, 0, 0, 0, 0, 0, 0, 0, 0, 0, ...</td>\n",
              "      <td>[0, 0, 255, 0, 0, 0, 0, 0, 0, 0, 0, 0, 0, 0, 0...</td>\n",
              "      <td>[0, 0, 0, 0, 0, 0, 0, 0, 27, 43, 40, 28, 15, 0...</td>\n",
              "      <td>pneumonia</td>\n",
              "    </tr>\n",
              "    <tr>\n",
              "      <th>1</th>\n",
              "      <td>[255, 255, 255, 255, 255, 255, 255, 255, 255, ...</td>\n",
              "      <td>[0, 0, 0, 0, 0, 0, 0, 0, 255, 0, 255, 0, 0, 0,...</td>\n",
              "      <td>[124, 128, 133, 135, 111, 70, 45, 21, 13, 22, ...</td>\n",
              "      <td>pneumonia</td>\n",
              "    </tr>\n",
              "    <tr>\n",
              "      <th>2</th>\n",
              "      <td>[0, 0, 0, 0, 0, 0, 0, 0, 0, 0, 0, 0, 255, 255,...</td>\n",
              "      <td>[0, 0, 0, 0, 0, 0, 255, 0, 0, 0, 0, 255, 0, 0,...</td>\n",
              "      <td>[0, 0, 0, 0, 0, 0, 0, 0, 0, 0, 0, 0, 0, 0, 0, ...</td>\n",
              "      <td>pneumonia</td>\n",
              "    </tr>\n",
              "    <tr>\n",
              "      <th>3</th>\n",
              "      <td>[0, 0, 0, 255, 255, 255, 255, 255, 255, 255, 2...</td>\n",
              "      <td>[0, 0, 255, 0, 0, 0, 0, 0, 0, 0, 255, 0, 0, 0,...</td>\n",
              "      <td>[0, 0, 0, 0, 0, 0, 0, 0, 0, 14, 14, 22, 29, 34...</td>\n",
              "      <td>pneumonia</td>\n",
              "    </tr>\n",
              "    <tr>\n",
              "      <th>4</th>\n",
              "      <td>[0, 0, 0, 0, 0, 0, 0, 0, 0, 0, 0, 0, 0, 0, 0, ...</td>\n",
              "      <td>[0, 0, 0, 0, 0, 0, 0, 255, 0, 255, 0, 0, 0, 0,...</td>\n",
              "      <td>[13, 18, 34, 58, 70, 71, 65, 53, 48, 50, 52, 5...</td>\n",
              "      <td>pneumonia</td>\n",
              "    </tr>\n",
              "  </tbody>\n",
              "</table>\n",
              "</div>\n",
              "      <button class=\"colab-df-convert\" onclick=\"convertToInteractive('df-b6196f04-6ba3-47e8-acbb-c7ee11449b9f')\"\n",
              "              title=\"Convert this dataframe to an interactive table.\"\n",
              "              style=\"display:none;\">\n",
              "        \n",
              "  <svg xmlns=\"http://www.w3.org/2000/svg\" height=\"24px\"viewBox=\"0 0 24 24\"\n",
              "       width=\"24px\">\n",
              "    <path d=\"M0 0h24v24H0V0z\" fill=\"none\"/>\n",
              "    <path d=\"M18.56 5.44l.94 2.06.94-2.06 2.06-.94-2.06-.94-.94-2.06-.94 2.06-2.06.94zm-11 1L8.5 8.5l.94-2.06 2.06-.94-2.06-.94L8.5 2.5l-.94 2.06-2.06.94zm10 10l.94 2.06.94-2.06 2.06-.94-2.06-.94-.94-2.06-.94 2.06-2.06.94z\"/><path d=\"M17.41 7.96l-1.37-1.37c-.4-.4-.92-.59-1.43-.59-.52 0-1.04.2-1.43.59L10.3 9.45l-7.72 7.72c-.78.78-.78 2.05 0 2.83L4 21.41c.39.39.9.59 1.41.59.51 0 1.02-.2 1.41-.59l7.78-7.78 2.81-2.81c.8-.78.8-2.07 0-2.86zM5.41 20L4 18.59l7.72-7.72 1.47 1.35L5.41 20z\"/>\n",
              "  </svg>\n",
              "      </button>\n",
              "      \n",
              "  <style>\n",
              "    .colab-df-container {\n",
              "      display:flex;\n",
              "      flex-wrap:wrap;\n",
              "      gap: 12px;\n",
              "    }\n",
              "\n",
              "    .colab-df-convert {\n",
              "      background-color: #E8F0FE;\n",
              "      border: none;\n",
              "      border-radius: 50%;\n",
              "      cursor: pointer;\n",
              "      display: none;\n",
              "      fill: #1967D2;\n",
              "      height: 32px;\n",
              "      padding: 0 0 0 0;\n",
              "      width: 32px;\n",
              "    }\n",
              "\n",
              "    .colab-df-convert:hover {\n",
              "      background-color: #E2EBFA;\n",
              "      box-shadow: 0px 1px 2px rgba(60, 64, 67, 0.3), 0px 1px 3px 1px rgba(60, 64, 67, 0.15);\n",
              "      fill: #174EA6;\n",
              "    }\n",
              "\n",
              "    [theme=dark] .colab-df-convert {\n",
              "      background-color: #3B4455;\n",
              "      fill: #D2E3FC;\n",
              "    }\n",
              "\n",
              "    [theme=dark] .colab-df-convert:hover {\n",
              "      background-color: #434B5C;\n",
              "      box-shadow: 0px 1px 3px 1px rgba(0, 0, 0, 0.15);\n",
              "      filter: drop-shadow(0px 1px 2px rgba(0, 0, 0, 0.3));\n",
              "      fill: #FFFFFF;\n",
              "    }\n",
              "  </style>\n",
              "\n",
              "      <script>\n",
              "        const buttonEl =\n",
              "          document.querySelector('#df-b6196f04-6ba3-47e8-acbb-c7ee11449b9f button.colab-df-convert');\n",
              "        buttonEl.style.display =\n",
              "          google.colab.kernel.accessAllowed ? 'block' : 'none';\n",
              "\n",
              "        async function convertToInteractive(key) {\n",
              "          const element = document.querySelector('#df-b6196f04-6ba3-47e8-acbb-c7ee11449b9f');\n",
              "          const dataTable =\n",
              "            await google.colab.kernel.invokeFunction('convertToInteractive',\n",
              "                                                     [key], {});\n",
              "          if (!dataTable) return;\n",
              "\n",
              "          const docLinkHtml = 'Like what you see? Visit the ' +\n",
              "            '<a target=\"_blank\" href=https://colab.research.google.com/notebooks/data_table.ipynb>data table notebook</a>'\n",
              "            + ' to learn more about interactive tables.';\n",
              "          element.innerHTML = '';\n",
              "          dataTable['output_type'] = 'display_data';\n",
              "          await google.colab.output.renderOutput(dataTable, element);\n",
              "          const docLink = document.createElement('div');\n",
              "          docLink.innerHTML = docLinkHtml;\n",
              "          element.appendChild(docLink);\n",
              "        }\n",
              "      </script>\n",
              "    </div>\n",
              "  </div>\n",
              "  "
            ]
          },
          "metadata": {},
          "execution_count": 82
        }
      ]
    },
    {
      "cell_type": "code",
      "source": [
        "# Create a test dataframe with 32x32 images. \n",
        "test_df = pd.DataFrame(dataset_initializer(\"test\", 32), columns=['Threshold_Pixels', \"Canny_Pixels\", \"Gabor_Pixels\", 'Disease'])\n",
        "\n",
        "# Display first 5 record of dataframe.\n",
        "test_df.head()"
      ],
      "metadata": {
        "colab": {
          "base_uri": "https://localhost:8080/",
          "height": 206
        },
        "id": "GwJ1468U4S9E",
        "outputId": "2fa34176-11f1-4752-805d-ea3b4371ba26"
      },
      "execution_count": null,
      "outputs": [
        {
          "output_type": "execute_result",
          "data": {
            "text/plain": [
              "                                    Threshold_Pixels  \\\n",
              "0  [0, 0, 0, 0, 0, 0, 0, 0, 0, 0, 0, 0, 0, 0, 0, ...   \n",
              "1  [0, 0, 0, 0, 0, 0, 0, 0, 0, 255, 255, 255, 255...   \n",
              "2  [0, 0, 0, 0, 0, 0, 0, 0, 255, 255, 255, 255, 2...   \n",
              "3  [0, 0, 255, 0, 0, 0, 0, 0, 0, 0, 255, 0, 0, 25...   \n",
              "4  [0, 0, 0, 0, 0, 0, 0, 0, 0, 0, 0, 255, 255, 25...   \n",
              "\n",
              "                                        Canny_Pixels  \\\n",
              "0  [0, 255, 0, 255, 0, 0, 0, 0, 0, 0, 0, 0, 0, 25...   \n",
              "1  [0, 255, 0, 0, 0, 0, 0, 0, 0, 0, 0, 0, 0, 0, 0...   \n",
              "2  [0, 0, 0, 0, 0, 255, 0, 0, 255, 0, 0, 0, 0, 0,...   \n",
              "3  [0, 255, 0, 255, 0, 0, 0, 0, 0, 0, 0, 0, 0, 25...   \n",
              "4  [0, 0, 0, 0, 0, 0, 0, 0, 0, 255, 0, 0, 0, 0, 0...   \n",
              "\n",
              "                                        Gabor_Pixels    Disease  \n",
              "0  [0, 0, 0, 0, 0, 8, 22, 27, 32, 40, 47, 56, 68,...  pneumonia  \n",
              "1  [0, 0, 0, 0, 0, 0, 0, 0, 6, 31, 39, 52, 58, 56...  pneumonia  \n",
              "2  [0, 0, 0, 0, 0, 0, 0, 26, 43, 53, 62, 72, 79, ...  pneumonia  \n",
              "3  [0, 0, 0, 0, 0, 0, 0, 0, 0, 0, 10, 20, 19, 11,...  pneumonia  \n",
              "4  [72, 61, 30, 3, 1, 12, 18, 20, 24, 21, 11, 16,...  pneumonia  "
            ],
            "text/html": [
              "\n",
              "  <div id=\"df-63ba807c-32d7-434d-87c8-f5864c95ca59\">\n",
              "    <div class=\"colab-df-container\">\n",
              "      <div>\n",
              "<style scoped>\n",
              "    .dataframe tbody tr th:only-of-type {\n",
              "        vertical-align: middle;\n",
              "    }\n",
              "\n",
              "    .dataframe tbody tr th {\n",
              "        vertical-align: top;\n",
              "    }\n",
              "\n",
              "    .dataframe thead th {\n",
              "        text-align: right;\n",
              "    }\n",
              "</style>\n",
              "<table border=\"1\" class=\"dataframe\">\n",
              "  <thead>\n",
              "    <tr style=\"text-align: right;\">\n",
              "      <th></th>\n",
              "      <th>Threshold_Pixels</th>\n",
              "      <th>Canny_Pixels</th>\n",
              "      <th>Gabor_Pixels</th>\n",
              "      <th>Disease</th>\n",
              "    </tr>\n",
              "  </thead>\n",
              "  <tbody>\n",
              "    <tr>\n",
              "      <th>0</th>\n",
              "      <td>[0, 0, 0, 0, 0, 0, 0, 0, 0, 0, 0, 0, 0, 0, 0, ...</td>\n",
              "      <td>[0, 255, 0, 255, 0, 0, 0, 0, 0, 0, 0, 0, 0, 25...</td>\n",
              "      <td>[0, 0, 0, 0, 0, 8, 22, 27, 32, 40, 47, 56, 68,...</td>\n",
              "      <td>pneumonia</td>\n",
              "    </tr>\n",
              "    <tr>\n",
              "      <th>1</th>\n",
              "      <td>[0, 0, 0, 0, 0, 0, 0, 0, 0, 255, 255, 255, 255...</td>\n",
              "      <td>[0, 255, 0, 0, 0, 0, 0, 0, 0, 0, 0, 0, 0, 0, 0...</td>\n",
              "      <td>[0, 0, 0, 0, 0, 0, 0, 0, 6, 31, 39, 52, 58, 56...</td>\n",
              "      <td>pneumonia</td>\n",
              "    </tr>\n",
              "    <tr>\n",
              "      <th>2</th>\n",
              "      <td>[0, 0, 0, 0, 0, 0, 0, 0, 255, 255, 255, 255, 2...</td>\n",
              "      <td>[0, 0, 0, 0, 0, 255, 0, 0, 255, 0, 0, 0, 0, 0,...</td>\n",
              "      <td>[0, 0, 0, 0, 0, 0, 0, 26, 43, 53, 62, 72, 79, ...</td>\n",
              "      <td>pneumonia</td>\n",
              "    </tr>\n",
              "    <tr>\n",
              "      <th>3</th>\n",
              "      <td>[0, 0, 255, 0, 0, 0, 0, 0, 0, 0, 255, 0, 0, 25...</td>\n",
              "      <td>[0, 255, 0, 255, 0, 0, 0, 0, 0, 0, 0, 0, 0, 25...</td>\n",
              "      <td>[0, 0, 0, 0, 0, 0, 0, 0, 0, 0, 10, 20, 19, 11,...</td>\n",
              "      <td>pneumonia</td>\n",
              "    </tr>\n",
              "    <tr>\n",
              "      <th>4</th>\n",
              "      <td>[0, 0, 0, 0, 0, 0, 0, 0, 0, 0, 0, 255, 255, 25...</td>\n",
              "      <td>[0, 0, 0, 0, 0, 0, 0, 0, 0, 255, 0, 0, 0, 0, 0...</td>\n",
              "      <td>[72, 61, 30, 3, 1, 12, 18, 20, 24, 21, 11, 16,...</td>\n",
              "      <td>pneumonia</td>\n",
              "    </tr>\n",
              "  </tbody>\n",
              "</table>\n",
              "</div>\n",
              "      <button class=\"colab-df-convert\" onclick=\"convertToInteractive('df-63ba807c-32d7-434d-87c8-f5864c95ca59')\"\n",
              "              title=\"Convert this dataframe to an interactive table.\"\n",
              "              style=\"display:none;\">\n",
              "        \n",
              "  <svg xmlns=\"http://www.w3.org/2000/svg\" height=\"24px\"viewBox=\"0 0 24 24\"\n",
              "       width=\"24px\">\n",
              "    <path d=\"M0 0h24v24H0V0z\" fill=\"none\"/>\n",
              "    <path d=\"M18.56 5.44l.94 2.06.94-2.06 2.06-.94-2.06-.94-.94-2.06-.94 2.06-2.06.94zm-11 1L8.5 8.5l.94-2.06 2.06-.94-2.06-.94L8.5 2.5l-.94 2.06-2.06.94zm10 10l.94 2.06.94-2.06 2.06-.94-2.06-.94-.94-2.06-.94 2.06-2.06.94z\"/><path d=\"M17.41 7.96l-1.37-1.37c-.4-.4-.92-.59-1.43-.59-.52 0-1.04.2-1.43.59L10.3 9.45l-7.72 7.72c-.78.78-.78 2.05 0 2.83L4 21.41c.39.39.9.59 1.41.59.51 0 1.02-.2 1.41-.59l7.78-7.78 2.81-2.81c.8-.78.8-2.07 0-2.86zM5.41 20L4 18.59l7.72-7.72 1.47 1.35L5.41 20z\"/>\n",
              "  </svg>\n",
              "      </button>\n",
              "      \n",
              "  <style>\n",
              "    .colab-df-container {\n",
              "      display:flex;\n",
              "      flex-wrap:wrap;\n",
              "      gap: 12px;\n",
              "    }\n",
              "\n",
              "    .colab-df-convert {\n",
              "      background-color: #E8F0FE;\n",
              "      border: none;\n",
              "      border-radius: 50%;\n",
              "      cursor: pointer;\n",
              "      display: none;\n",
              "      fill: #1967D2;\n",
              "      height: 32px;\n",
              "      padding: 0 0 0 0;\n",
              "      width: 32px;\n",
              "    }\n",
              "\n",
              "    .colab-df-convert:hover {\n",
              "      background-color: #E2EBFA;\n",
              "      box-shadow: 0px 1px 2px rgba(60, 64, 67, 0.3), 0px 1px 3px 1px rgba(60, 64, 67, 0.15);\n",
              "      fill: #174EA6;\n",
              "    }\n",
              "\n",
              "    [theme=dark] .colab-df-convert {\n",
              "      background-color: #3B4455;\n",
              "      fill: #D2E3FC;\n",
              "    }\n",
              "\n",
              "    [theme=dark] .colab-df-convert:hover {\n",
              "      background-color: #434B5C;\n",
              "      box-shadow: 0px 1px 3px 1px rgba(0, 0, 0, 0.15);\n",
              "      filter: drop-shadow(0px 1px 2px rgba(0, 0, 0, 0.3));\n",
              "      fill: #FFFFFF;\n",
              "    }\n",
              "  </style>\n",
              "\n",
              "      <script>\n",
              "        const buttonEl =\n",
              "          document.querySelector('#df-63ba807c-32d7-434d-87c8-f5864c95ca59 button.colab-df-convert');\n",
              "        buttonEl.style.display =\n",
              "          google.colab.kernel.accessAllowed ? 'block' : 'none';\n",
              "\n",
              "        async function convertToInteractive(key) {\n",
              "          const element = document.querySelector('#df-63ba807c-32d7-434d-87c8-f5864c95ca59');\n",
              "          const dataTable =\n",
              "            await google.colab.kernel.invokeFunction('convertToInteractive',\n",
              "                                                     [key], {});\n",
              "          if (!dataTable) return;\n",
              "\n",
              "          const docLinkHtml = 'Like what you see? Visit the ' +\n",
              "            '<a target=\"_blank\" href=https://colab.research.google.com/notebooks/data_table.ipynb>data table notebook</a>'\n",
              "            + ' to learn more about interactive tables.';\n",
              "          element.innerHTML = '';\n",
              "          dataTable['output_type'] = 'display_data';\n",
              "          await google.colab.output.renderOutput(dataTable, element);\n",
              "          const docLink = document.createElement('div');\n",
              "          docLink.innerHTML = docLinkHtml;\n",
              "          element.appendChild(docLink);\n",
              "        }\n",
              "      </script>\n",
              "    </div>\n",
              "  </div>\n",
              "  "
            ]
          },
          "metadata": {},
          "execution_count": 83
        }
      ]
    },
    {
      "cell_type": "code",
      "source": [
        "# Split dataframes as features and labels.\n",
        "x_train, x_test, y_train, y_test = train_df.iloc[:, :-1], test_df.iloc[:, :-1], train_df.iloc[:, -1], test_df.iloc[:, -1]"
      ],
      "metadata": {
        "id": "emdtCJjM40IW"
      },
      "execution_count": null,
      "outputs": []
    },
    {
      "cell_type": "markdown",
      "source": [
        "### ***Run k-NN Algorithm***"
      ],
      "metadata": {
        "id": "KITfsC1WmoCj"
      }
    },
    {
      "cell_type": "code",
      "source": [
        "# Create a list to store prediction of each test point.\n",
        "y_pred_3 = list()\n",
        "y_pred_5 = list()\n",
        "y_pred_7 = list()\n",
        "\n",
        "# Iterate over test points.\n",
        "for row_index in x_test.index:\n",
        "  \n",
        "  # Predict disease type of each test point according to k value.\n",
        "  prediction_3 = nearest_neighbors(x_train, y_train, x_test.loc[row_index, :], 3)\n",
        "  prediction_5 = nearest_neighbors(x_train, y_train, x_test.loc[row_index, :], 5)\n",
        "  prediction_7 = nearest_neighbors(x_train, y_train, x_test.loc[row_index, :], 7)\n",
        "  \n",
        "  # Add each prediction result to the corresponding list.\n",
        "  y_pred_3.append(prediction_3)\n",
        "  y_pred_5.append(prediction_5)\n",
        "  y_pred_7.append(prediction_7)"
      ],
      "metadata": {
        "id": "bo6q8O7q7Q1z"
      },
      "execution_count": null,
      "outputs": []
    },
    {
      "cell_type": "markdown",
      "source": [
        "### ***Create Confusion Matrix of K-NN Algorithm***"
      ],
      "metadata": {
        "id": "QfjKZ4dEnd5Z"
      }
    },
    {
      "cell_type": "code",
      "source": [
        "# Create confusion matrix of each k-nn prediction.\n",
        "cm_3 = confusion_matrix(y_test, y_pred_3)\n",
        "cm_5 = confusion_matrix(y_test, y_pred_5)\n",
        "cm_7 = confusion_matrix(y_test, y_pred_7)\n",
        "\n",
        "# Create a dataframe to visualize 3x3 confusion matrix.\n",
        "cm_3_df = pd.DataFrame(cm_3, index = ['COVID','PNEUMONIA', 'NORMAL'], columns = ['COVID','PNEUMONIA','NORMAL'])\n",
        "cm_5_df = pd.DataFrame(cm_5, index = ['COVID','PNEUMONIA', 'NORMAL'], columns = ['COVID','PNEUMONIA','NORMAL'])\n",
        "cm_7_df = pd.DataFrame(cm_7, index = ['COVID','PNEUMONIA', 'NORMAL'], columns = ['COVID','PNEUMONIA','NORMAL'])\n",
        "\n",
        "# Display confusion matrices.\n",
        "confusion_matrix_visualizer(cm_3_df, cm_5_df, cm_7_df)"
      ],
      "metadata": {
        "id": "MhLzgMhFoEEW",
        "colab": {
          "base_uri": "https://localhost:8080/",
          "height": 458
        },
        "outputId": "7a9127a7-4465-4861-ecd1-bcbf2547d266"
      },
      "execution_count": null,
      "outputs": [
        {
          "output_type": "display_data",
          "data": {
            "text/plain": [
              "<Figure size 1800x504 with 6 Axes>"
            ],
            "image/png": "[encoded data removed]"
          },
          "metadata": {
            "needs_background": "light"
          }
        }
      ]
    },
    {
      "cell_type": "markdown",
      "source": [
        "###### According to Confusion Matrices of the k-NN Algorithm over different k-values, covid is the most accurately predicted disease among all disease types, and as k increases, the prediction accuracy increases too."
      ],
      "metadata": {
        "id": "FG2FKLrOb_Q4"
      }
    },
    {
      "cell_type": "markdown",
      "source": [
        "### ***Compute the Performance of K-NN Model***"
      ],
      "metadata": {
        "id": "Y9_US26Sn9qq"
      }
    },
    {
      "cell_type": "code",
      "source": [
        "# Performance of 3-NN Model.\n",
        "print(\"3-NN Model Performance\")\n",
        "model_performance(cm_3_df)\n",
        "\n",
        "# Performance of 5-NN Model.\n",
        "print(\"\\n5-NN Model Performance\")\n",
        "model_performance(cm_5_df)\n",
        "\n",
        "# Performance of 7-NN Model.\n",
        "print(\"\\n7-NN Model Performance\")\n",
        "model_performance(cm_7_df)"
      ],
      "metadata": {
        "colab": {
          "base_uri": "https://localhost:8080/"
        },
        "id": "yopU3vv_ndBC",
        "outputId": "526c8dad-eddf-495e-dd31-3382e0f04eb7"
      },
      "execution_count": null,
      "outputs": [
        {
          "output_type": "stream",
          "name": "stdout",
          "text": [
            "3-NN Model Performance\n",
            "Accuracy: 0.7488888888888888\n",
            "Precision: 0.6201448376645228\n",
            "Recall: 0.6233333333333334\n",
            "\n",
            "5-NN Model Performance\n",
            "Accuracy: 0.7644444444444445\n",
            "Precision: 0.6504241308554088\n",
            "Recall: 0.6466666666666666\n",
            "\n",
            "7-NN Model Performance\n",
            "Accuracy: 0.7866666666666666\n",
            "Precision: 0.715182000505802\n",
            "Recall: 0.68\n"
          ]
        }
      ]
    },
    {
      "cell_type": "markdown",
      "source": [
        "##### According to model performances based on k-value, the model is working better with bigger k values than 3 or 5. Both of the precision and recall measurements are increasing depending on k-value increase.True Prediction rate of model increases depending on k-value according to this experiment."
      ],
      "metadata": {
        "id": "mFQeocPjcpX_"
      }
    },
    {
      "cell_type": "markdown",
      "source": [
        "### ***Run Weighted k-NN Algorithm***"
      ],
      "metadata": {
        "id": "6YAOs5i-oIJn"
      }
    },
    {
      "cell_type": "code",
      "source": [
        "# Create a list to store prediction of each test point.\n",
        "y_pred_3 = list()\n",
        "y_pred_5 = list()\n",
        "y_pred_7 = list()\n",
        "\n",
        "# Iterate over test points.\n",
        "for row_index in x_test.index:\n",
        "  \n",
        "  # Predict disease type of each test point according to k value.\n",
        "  prediction_3 = weighted_nearest_neighbors(x_train, y_train, x_test.loc[row_index, :], 3)\n",
        "  prediction_5 = weighted_nearest_neighbors(x_train, y_train, x_test.loc[row_index, :], 5)\n",
        "  prediction_7 = weighted_nearest_neighbors(x_train, y_train, x_test.loc[row_index, :], 7)\n",
        "  \n",
        "  # Add each prediction result to the corresponding list.\n",
        "  y_pred_3.append(prediction_3)\n",
        "  y_pred_5.append(prediction_5)\n",
        "  y_pred_7.append(prediction_7)"
      ],
      "metadata": {
        "id": "ostMs4EM0A8I"
      },
      "execution_count": null,
      "outputs": []
    },
    {
      "cell_type": "markdown",
      "source": [
        "### ***Create Confusion Matrix of Weighted K-NN Algorithm***"
      ],
      "metadata": {
        "id": "bJsbkuzboOml"
      }
    },
    {
      "cell_type": "code",
      "source": [
        "# Create confusion matrix of each weighted k-nn prediction.\n",
        "confusion_matrix_3 = confusion_matrix(y_test, y_pred_3)\n",
        "confusion_matrix_5 = confusion_matrix(y_test, y_pred_5)\n",
        "confusion_matrix_7 = confusion_matrix(y_test, y_pred_7)\n",
        "\n",
        "# Create a dataframe to visualize 3x3 confusion matrix.\n",
        "cm_3_df = pd.DataFrame(confusion_matrix_3, index = ['COVID','PNEUMONIA', 'NORMAL'], columns = ['COVID','PNEUMONIA','NORMAL'])\n",
        "cm_5_df = pd.DataFrame(confusion_matrix_5, index = ['COVID','PNEUMONIA', 'NORMAL'], columns = ['COVID','PNEUMONIA','NORMAL'])\n",
        "cm_7_df = pd.DataFrame(confusion_matrix_7, index = ['COVID','PNEUMONIA', 'NORMAL'], columns = ['COVID','PNEUMONIA','NORMAL'])\n",
        "\n",
        "# Display confusion matrices.\n",
        "confusion_matrix_visualizer(cm_3_df, cm_5_df, cm_7_df)"
      ],
      "metadata": {
        "id": "k60n-8hVoVFF",
        "colab": {
          "base_uri": "https://localhost:8080/",
          "height": 458
        },
        "outputId": "abb6c82d-f10b-4132-90c4-14c9fdfbdc24"
      },
      "execution_count": null,
      "outputs": [
        {
          "output_type": "display_data",
          "data": {
            "text/plain": [
              "<Figure size 1800x504 with 6 Axes>"
            ],
            "image/png": "[encoded data removed]"
          },
          "metadata": {
            "needs_background": "light"
          }
        }
      ]
    },
    {
      "cell_type": "markdown",
      "source": [
        "##### Confusion Matrices of model depending on different k-values shows us Covid is the most predictable disease for this experiment. Prediction rate of model increases depending on k-value increase."
      ],
      "metadata": {
        "id": "gjACXn9cdlDX"
      }
    },
    {
      "cell_type": "markdown",
      "source": [
        "### ***Compute the Performance of Weighted K-NN Algorithm***"
      ],
      "metadata": {
        "id": "7Csk4MbEoUtT"
      }
    },
    {
      "cell_type": "code",
      "source": [
        "# Performance of weighted 3-NN Model.\n",
        "print(\"3-NN Model Performance\")\n",
        "model_performance(cm_3_df)\n",
        "\n",
        "# Performance of weighted 5-NN Model.\n",
        "print(\"\\n5-NN Model Performance\")\n",
        "model_performance(cm_5_df)\n",
        "\n",
        "# Performance of weighted 7-NN Model.\n",
        "print(\"\\n7-NN Model Performance\")\n",
        "model_performance(cm_7_df)"
      ],
      "metadata": {
        "id": "gBZPjE0eg-cS",
        "colab": {
          "base_uri": "https://localhost:8080/"
        },
        "outputId": "c705dd41-c38e-4d41-8c31-9484556877ba"
      },
      "execution_count": null,
      "outputs": [
        {
          "output_type": "stream",
          "name": "stdout",
          "text": [
            "3-NN Model Performance\n",
            "Accuracy: 0.7488888888888888\n",
            "Precision: 0.6201448376645228\n",
            "Recall: 0.6233333333333334\n",
            "\n",
            "5-NN Model Performance\n",
            "Accuracy: 0.7644444444444445\n",
            "Precision: 0.6504241308554088\n",
            "Recall: 0.6466666666666666\n",
            "\n",
            "7-NN Model Performance\n",
            "Accuracy: 0.7866666666666666\n",
            "Precision: 0.709804380017146\n",
            "Recall: 0.68\n"
          ]
        }
      ]
    },
    {
      "cell_type": "markdown",
      "source": [
        "##### Performance outputs of model shows us bigger k-value give more accurate prediction performance for this experiment. As shows up in the output, model make more true prediction in 7-nearest neighbor according to total weights."
      ],
      "metadata": {
        "id": "gJ8rwh6MeG6k"
      }
    },
    {
      "cell_type": "markdown",
      "source": [
        "### ***64x64 Images***"
      ],
      "metadata": {
        "id": "-XYqy5EvA1Pq"
      }
    },
    {
      "cell_type": "markdown",
      "source": [
        "### ***Create Train & Test DataFrames***"
      ],
      "metadata": {
        "id": "eSgcZlq2BGBf"
      }
    },
    {
      "cell_type": "code",
      "source": [
        "# Create a train dataframe with 64x64 images.\n",
        "train_df = pd.DataFrame(dataset_initializer(\"train\", 64), columns=['Threshold_Pixels', \"Canny_Pixels\", \"Gabor_Pixels\", 'Disease'])\n",
        "\n",
        "# Display first 5 record of dataframe.\n",
        "train_df.head()"
      ],
      "metadata": {
        "colab": {
          "base_uri": "https://localhost:8080/",
          "height": 206
        },
        "outputId": "f421a3f4-c020-4728-8bb5-69bd1d1ebcce",
        "id": "7Xsk7QnOBGBf"
      },
      "execution_count": null,
      "outputs": [
        {
          "output_type": "execute_result",
          "data": {
            "text/plain": [
              "                                    Threshold_Pixels  \\\n",
              "0  [0, 0, 0, 0, 0, 0, 0, 0, 0, 0, 0, 0, 0, 0, 0, ...   \n",
              "1  [255, 255, 255, 255, 255, 255, 255, 255, 255, ...   \n",
              "2  [0, 0, 0, 0, 0, 0, 0, 0, 0, 0, 0, 0, 0, 0, 0, ...   \n",
              "3  [0, 0, 0, 0, 0, 0, 0, 255, 255, 255, 255, 255,...   \n",
              "4  [0, 0, 0, 0, 0, 0, 0, 0, 0, 0, 0, 0, 0, 0, 0, ...   \n",
              "\n",
              "                                        Canny_Pixels  \\\n",
              "0  [0, 0, 0, 0, 0, 0, 0, 0, 0, 0, 255, 255, 255, ...   \n",
              "1  [0, 0, 0, 0, 255, 0, 0, 255, 0, 0, 0, 0, 0, 0,...   \n",
              "2  [0, 0, 255, 0, 0, 0, 0, 0, 255, 0, 255, 0, 255...   \n",
              "3  [0, 0, 0, 255, 0, 0, 0, 255, 0, 0, 255, 0, 0, ...   \n",
              "4  [0, 0, 0, 0, 0, 0, 0, 0, 0, 0, 0, 0, 0, 0, 0, ...   \n",
              "\n",
              "                                        Gabor_Pixels    Disease  \n",
              "0  [186, 154, 114, 105, 100, 84, 54, 28, 0, 0, 0,...  pneumonia  \n",
              "1  [0, 0, 0, 0, 0, 0, 0, 0, 0, 0, 0, 0, 0, 0, 0, ...  pneumonia  \n",
              "2  [0, 0, 0, 0, 0, 0, 0, 0, 0, 0, 0, 4, 32, 57, 7...  pneumonia  \n",
              "3  [0, 0, 0, 0, 0, 0, 0, 0, 0, 0, 0, 0, 0, 0, 0, ...  pneumonia  \n",
              "4  [14, 11, 11, 21, 26, 21, 13, 7, 9, 13, 0, 0, 0...  pneumonia  "
            ],
            "text/html": [
              "\n",
              "  <div id=\"df-e251a745-50e5-4a31-bb2e-92735566af32\">\n",
              "    <div class=\"colab-df-container\">\n",
              "      <div>\n",
              "<style scoped>\n",
              "    .dataframe tbody tr th:only-of-type {\n",
              "        vertical-align: middle;\n",
              "    }\n",
              "\n",
              "    .dataframe tbody tr th {\n",
              "        vertical-align: top;\n",
              "    }\n",
              "\n",
              "    .dataframe thead th {\n",
              "        text-align: right;\n",
              "    }\n",
              "</style>\n",
              "<table border=\"1\" class=\"dataframe\">\n",
              "  <thead>\n",
              "    <tr style=\"text-align: right;\">\n",
              "      <th></th>\n",
              "      <th>Threshold_Pixels</th>\n",
              "      <th>Canny_Pixels</th>\n",
              "      <th>Gabor_Pixels</th>\n",
              "      <th>Disease</th>\n",
              "    </tr>\n",
              "  </thead>\n",
              "  <tbody>\n",
              "    <tr>\n",
              "      <th>0</th>\n",
              "      <td>[0, 0, 0, 0, 0, 0, 0, 0, 0, 0, 0, 0, 0, 0, 0, ...</td>\n",
              "      <td>[0, 0, 0, 0, 0, 0, 0, 0, 0, 0, 255, 255, 255, ...</td>\n",
              "      <td>[186, 154, 114, 105, 100, 84, 54, 28, 0, 0, 0,...</td>\n",
              "      <td>pneumonia</td>\n",
              "    </tr>\n",
              "    <tr>\n",
              "      <th>1</th>\n",
              "      <td>[255, 255, 255, 255, 255, 255, 255, 255, 255, ...</td>\n",
              "      <td>[0, 0, 0, 0, 255, 0, 0, 255, 0, 0, 0, 0, 0, 0,...</td>\n",
              "      <td>[0, 0, 0, 0, 0, 0, 0, 0, 0, 0, 0, 0, 0, 0, 0, ...</td>\n",
              "      <td>pneumonia</td>\n",
              "    </tr>\n",
              "    <tr>\n",
              "      <th>2</th>\n",
              "      <td>[0, 0, 0, 0, 0, 0, 0, 0, 0, 0, 0, 0, 0, 0, 0, ...</td>\n",
              "      <td>[0, 0, 255, 0, 0, 0, 0, 0, 255, 0, 255, 0, 255...</td>\n",
              "      <td>[0, 0, 0, 0, 0, 0, 0, 0, 0, 0, 0, 4, 32, 57, 7...</td>\n",
              "      <td>pneumonia</td>\n",
              "    </tr>\n",
              "    <tr>\n",
              "      <th>3</th>\n",
              "      <td>[0, 0, 0, 0, 0, 0, 0, 255, 255, 255, 255, 255,...</td>\n",
              "      <td>[0, 0, 0, 255, 0, 0, 0, 255, 0, 0, 255, 0, 0, ...</td>\n",
              "      <td>[0, 0, 0, 0, 0, 0, 0, 0, 0, 0, 0, 0, 0, 0, 0, ...</td>\n",
              "      <td>pneumonia</td>\n",
              "    </tr>\n",
              "    <tr>\n",
              "      <th>4</th>\n",
              "      <td>[0, 0, 0, 0, 0, 0, 0, 0, 0, 0, 0, 0, 0, 0, 0, ...</td>\n",
              "      <td>[0, 0, 0, 0, 0, 0, 0, 0, 0, 0, 0, 0, 0, 0, 0, ...</td>\n",
              "      <td>[14, 11, 11, 21, 26, 21, 13, 7, 9, 13, 0, 0, 0...</td>\n",
              "      <td>pneumonia</td>\n",
              "    </tr>\n",
              "  </tbody>\n",
              "</table>\n",
              "</div>\n",
              "      <button class=\"colab-df-convert\" onclick=\"convertToInteractive('df-e251a745-50e5-4a31-bb2e-92735566af32')\"\n",
              "              title=\"Convert this dataframe to an interactive table.\"\n",
              "              style=\"display:none;\">\n",
              "        \n",
              "  <svg xmlns=\"http://www.w3.org/2000/svg\" height=\"24px\"viewBox=\"0 0 24 24\"\n",
              "       width=\"24px\">\n",
              "    <path d=\"M0 0h24v24H0V0z\" fill=\"none\"/>\n",
              "    <path d=\"M18.56 5.44l.94 2.06.94-2.06 2.06-.94-2.06-.94-.94-2.06-.94 2.06-2.06.94zm-11 1L8.5 8.5l.94-2.06 2.06-.94-2.06-.94L8.5 2.5l-.94 2.06-2.06.94zm10 10l.94 2.06.94-2.06 2.06-.94-2.06-.94-.94-2.06-.94 2.06-2.06.94z\"/><path d=\"M17.41 7.96l-1.37-1.37c-.4-.4-.92-.59-1.43-.59-.52 0-1.04.2-1.43.59L10.3 9.45l-7.72 7.72c-.78.78-.78 2.05 0 2.83L4 21.41c.39.39.9.59 1.41.59.51 0 1.02-.2 1.41-.59l7.78-7.78 2.81-2.81c.8-.78.8-2.07 0-2.86zM5.41 20L4 18.59l7.72-7.72 1.47 1.35L5.41 20z\"/>\n",
              "  </svg>\n",
              "      </button>\n",
              "      \n",
              "  <style>\n",
              "    .colab-df-container {\n",
              "      display:flex;\n",
              "      flex-wrap:wrap;\n",
              "      gap: 12px;\n",
              "    }\n",
              "\n",
              "    .colab-df-convert {\n",
              "      background-color: #E8F0FE;\n",
              "      border: none;\n",
              "      border-radius: 50%;\n",
              "      cursor: pointer;\n",
              "      display: none;\n",
              "      fill: #1967D2;\n",
              "      height: 32px;\n",
              "      padding: 0 0 0 0;\n",
              "      width: 32px;\n",
              "    }\n",
              "\n",
              "    .colab-df-convert:hover {\n",
              "      background-color: #E2EBFA;\n",
              "      box-shadow: 0px 1px 2px rgba(60, 64, 67, 0.3), 0px 1px 3px 1px rgba(60, 64, 67, 0.15);\n",
              "      fill: #174EA6;\n",
              "    }\n",
              "\n",
              "    [theme=dark] .colab-df-convert {\n",
              "      background-color: #3B4455;\n",
              "      fill: #D2E3FC;\n",
              "    }\n",
              "\n",
              "    [theme=dark] .colab-df-convert:hover {\n",
              "      background-color: #434B5C;\n",
              "      box-shadow: 0px 1px 3px 1px rgba(0, 0, 0, 0.15);\n",
              "      filter: drop-shadow(0px 1px 2px rgba(0, 0, 0, 0.3));\n",
              "      fill: #FFFFFF;\n",
              "    }\n",
              "  </style>\n",
              "\n",
              "      <script>\n",
              "        const buttonEl =\n",
              "          document.querySelector('#df-e251a745-50e5-4a31-bb2e-92735566af32 button.colab-df-convert');\n",
              "        buttonEl.style.display =\n",
              "          google.colab.kernel.accessAllowed ? 'block' : 'none';\n",
              "\n",
              "        async function convertToInteractive(key) {\n",
              "          const element = document.querySelector('#df-e251a745-50e5-4a31-bb2e-92735566af32');\n",
              "          const dataTable =\n",
              "            await google.colab.kernel.invokeFunction('convertToInteractive',\n",
              "                                                     [key], {});\n",
              "          if (!dataTable) return;\n",
              "\n",
              "          const docLinkHtml = 'Like what you see? Visit the ' +\n",
              "            '<a target=\"_blank\" href=https://colab.research.google.com/notebooks/data_table.ipynb>data table notebook</a>'\n",
              "            + ' to learn more about interactive tables.';\n",
              "          element.innerHTML = '';\n",
              "          dataTable['output_type'] = 'display_data';\n",
              "          await google.colab.output.renderOutput(dataTable, element);\n",
              "          const docLink = document.createElement('div');\n",
              "          docLink.innerHTML = docLinkHtml;\n",
              "          element.appendChild(docLink);\n",
              "        }\n",
              "      </script>\n",
              "    </div>\n",
              "  </div>\n",
              "  "
            ]
          },
          "metadata": {},
          "execution_count": 91
        }
      ]
    },
    {
      "cell_type": "code",
      "source": [
        "# Create a test dataframe with 64x64 images. \n",
        "test_df = pd.DataFrame(dataset_initializer(\"test\", 64), columns=['Threshold_Pixels', \"Canny_Pixels\", \"Gabor_Pixels\", 'Disease'])\n",
        "\n",
        "# Display first 5 record of dataframe.\n",
        "test_df.head()"
      ],
      "metadata": {
        "colab": {
          "base_uri": "https://localhost:8080/",
          "height": 206
        },
        "outputId": "c6ab30f6-2f98-4dd4-975b-ba2a463bd2d9",
        "id": "VXRRXVSXBGBf"
      },
      "execution_count": null,
      "outputs": [
        {
          "output_type": "execute_result",
          "data": {
            "text/plain": [
              "                                    Threshold_Pixels  \\\n",
              "0  [0, 0, 0, 0, 0, 0, 0, 0, 0, 0, 0, 0, 0, 0, 0, ...   \n",
              "1  [0, 0, 0, 0, 0, 255, 255, 0, 0, 0, 0, 0, 0, 0,...   \n",
              "2  [0, 0, 0, 0, 0, 0, 0, 0, 0, 0, 0, 0, 0, 0, 0, ...   \n",
              "3  [0, 0, 0, 0, 0, 0, 0, 0, 0, 0, 0, 0, 0, 0, 0, ...   \n",
              "4  [0, 0, 0, 0, 0, 0, 0, 0, 0, 0, 0, 0, 0, 0, 0, ...   \n",
              "\n",
              "                                        Canny_Pixels  \\\n",
              "0  [0, 0, 0, 0, 0, 0, 0, 0, 0, 0, 0, 0, 0, 0, 0, ...   \n",
              "1  [0, 0, 0, 0, 255, 0, 0, 255, 0, 0, 0, 0, 0, 0,...   \n",
              "2  [0, 0, 0, 0, 0, 0, 0, 0, 0, 0, 0, 0, 0, 0, 0, ...   \n",
              "3  [0, 0, 0, 0, 0, 0, 0, 0, 0, 0, 0, 0, 0, 0, 0, ...   \n",
              "4  [0, 0, 255, 0, 0, 0, 0, 0, 0, 0, 0, 0, 255, 0,...   \n",
              "\n",
              "                                        Gabor_Pixels    Disease  \n",
              "0  [14, 16, 17, 14, 11, 7, 4, 1, 0, 0, 0, 4, 7, 1...  pneumonia  \n",
              "1  [62, 68, 72, 71, 59, 37, 18, 0, 0, 0, 0, 0, 0,...  pneumonia  \n",
              "2  [0, 0, 0, 0, 0, 0, 0, 4, 9, 15, 20, 23, 18, 16...  pneumonia  \n",
              "3  [0, 0, 0, 0, 0, 0, 2, 13, 22, 26, 22, 13, 11, ...  pneumonia  \n",
              "4  [0, 0, 0, 0, 0, 0, 0, 0, 0, 0, 0, 0, 0, 0, 0, ...  pneumonia  "
            ],
            "text/html": [
              "\n",
              "  <div id=\"df-d57f6ac1-d65d-4e69-a7ec-343f311440d0\">\n",
              "    <div class=\"colab-df-container\">\n",
              "      <div>\n",
              "<style scoped>\n",
              "    .dataframe tbody tr th:only-of-type {\n",
              "        vertical-align: middle;\n",
              "    }\n",
              "\n",
              "    .dataframe tbody tr th {\n",
              "        vertical-align: top;\n",
              "    }\n",
              "\n",
              "    .dataframe thead th {\n",
              "        text-align: right;\n",
              "    }\n",
              "</style>\n",
              "<table border=\"1\" class=\"dataframe\">\n",
              "  <thead>\n",
              "    <tr style=\"text-align: right;\">\n",
              "      <th></th>\n",
              "      <th>Threshold_Pixels</th>\n",
              "      <th>Canny_Pixels</th>\n",
              "      <th>Gabor_Pixels</th>\n",
              "      <th>Disease</th>\n",
              "    </tr>\n",
              "  </thead>\n",
              "  <tbody>\n",
              "    <tr>\n",
              "      <th>0</th>\n",
              "      <td>[0, 0, 0, 0, 0, 0, 0, 0, 0, 0, 0, 0, 0, 0, 0, ...</td>\n",
              "      <td>[0, 0, 0, 0, 0, 0, 0, 0, 0, 0, 0, 0, 0, 0, 0, ...</td>\n",
              "      <td>[14, 16, 17, 14, 11, 7, 4, 1, 0, 0, 0, 4, 7, 1...</td>\n",
              "      <td>pneumonia</td>\n",
              "    </tr>\n",
              "    <tr>\n",
              "      <th>1</th>\n",
              "      <td>[0, 0, 0, 0, 0, 255, 255, 0, 0, 0, 0, 0, 0, 0,...</td>\n",
              "      <td>[0, 0, 0, 0, 255, 0, 0, 255, 0, 0, 0, 0, 0, 0,...</td>\n",
              "      <td>[62, 68, 72, 71, 59, 37, 18, 0, 0, 0, 0, 0, 0,...</td>\n",
              "      <td>pneumonia</td>\n",
              "    </tr>\n",
              "    <tr>\n",
              "      <th>2</th>\n",
              "      <td>[0, 0, 0, 0, 0, 0, 0, 0, 0, 0, 0, 0, 0, 0, 0, ...</td>\n",
              "      <td>[0, 0, 0, 0, 0, 0, 0, 0, 0, 0, 0, 0, 0, 0, 0, ...</td>\n",
              "      <td>[0, 0, 0, 0, 0, 0, 0, 4, 9, 15, 20, 23, 18, 16...</td>\n",
              "      <td>pneumonia</td>\n",
              "    </tr>\n",
              "    <tr>\n",
              "      <th>3</th>\n",
              "      <td>[0, 0, 0, 0, 0, 0, 0, 0, 0, 0, 0, 0, 0, 0, 0, ...</td>\n",
              "      <td>[0, 0, 0, 0, 0, 0, 0, 0, 0, 0, 0, 0, 0, 0, 0, ...</td>\n",
              "      <td>[0, 0, 0, 0, 0, 0, 2, 13, 22, 26, 22, 13, 11, ...</td>\n",
              "      <td>pneumonia</td>\n",
              "    </tr>\n",
              "    <tr>\n",
              "      <th>4</th>\n",
              "      <td>[0, 0, 0, 0, 0, 0, 0, 0, 0, 0, 0, 0, 0, 0, 0, ...</td>\n",
              "      <td>[0, 0, 255, 0, 0, 0, 0, 0, 0, 0, 0, 0, 255, 0,...</td>\n",
              "      <td>[0, 0, 0, 0, 0, 0, 0, 0, 0, 0, 0, 0, 0, 0, 0, ...</td>\n",
              "      <td>pneumonia</td>\n",
              "    </tr>\n",
              "  </tbody>\n",
              "</table>\n",
              "</div>\n",
              "      <button class=\"colab-df-convert\" onclick=\"convertToInteractive('df-d57f6ac1-d65d-4e69-a7ec-343f311440d0')\"\n",
              "              title=\"Convert this dataframe to an interactive table.\"\n",
              "              style=\"display:none;\">\n",
              "        \n",
              "  <svg xmlns=\"http://www.w3.org/2000/svg\" height=\"24px\"viewBox=\"0 0 24 24\"\n",
              "       width=\"24px\">\n",
              "    <path d=\"M0 0h24v24H0V0z\" fill=\"none\"/>\n",
              "    <path d=\"M18.56 5.44l.94 2.06.94-2.06 2.06-.94-2.06-.94-.94-2.06-.94 2.06-2.06.94zm-11 1L8.5 8.5l.94-2.06 2.06-.94-2.06-.94L8.5 2.5l-.94 2.06-2.06.94zm10 10l.94 2.06.94-2.06 2.06-.94-2.06-.94-.94-2.06-.94 2.06-2.06.94z\"/><path d=\"M17.41 7.96l-1.37-1.37c-.4-.4-.92-.59-1.43-.59-.52 0-1.04.2-1.43.59L10.3 9.45l-7.72 7.72c-.78.78-.78 2.05 0 2.83L4 21.41c.39.39.9.59 1.41.59.51 0 1.02-.2 1.41-.59l7.78-7.78 2.81-2.81c.8-.78.8-2.07 0-2.86zM5.41 20L4 18.59l7.72-7.72 1.47 1.35L5.41 20z\"/>\n",
              "  </svg>\n",
              "      </button>\n",
              "      \n",
              "  <style>\n",
              "    .colab-df-container {\n",
              "      display:flex;\n",
              "      flex-wrap:wrap;\n",
              "      gap: 12px;\n",
              "    }\n",
              "\n",
              "    .colab-df-convert {\n",
              "      background-color: #E8F0FE;\n",
              "      border: none;\n",
              "      border-radius: 50%;\n",
              "      cursor: pointer;\n",
              "      display: none;\n",
              "      fill: #1967D2;\n",
              "      height: 32px;\n",
              "      padding: 0 0 0 0;\n",
              "      width: 32px;\n",
              "    }\n",
              "\n",
              "    .colab-df-convert:hover {\n",
              "      background-color: #E2EBFA;\n",
              "      box-shadow: 0px 1px 2px rgba(60, 64, 67, 0.3), 0px 1px 3px 1px rgba(60, 64, 67, 0.15);\n",
              "      fill: #174EA6;\n",
              "    }\n",
              "\n",
              "    [theme=dark] .colab-df-convert {\n",
              "      background-color: #3B4455;\n",
              "      fill: #D2E3FC;\n",
              "    }\n",
              "\n",
              "    [theme=dark] .colab-df-convert:hover {\n",
              "      background-color: #434B5C;\n",
              "      box-shadow: 0px 1px 3px 1px rgba(0, 0, 0, 0.15);\n",
              "      filter: drop-shadow(0px 1px 2px rgba(0, 0, 0, 0.3));\n",
              "      fill: #FFFFFF;\n",
              "    }\n",
              "  </style>\n",
              "\n",
              "      <script>\n",
              "        const buttonEl =\n",
              "          document.querySelector('#df-d57f6ac1-d65d-4e69-a7ec-343f311440d0 button.colab-df-convert');\n",
              "        buttonEl.style.display =\n",
              "          google.colab.kernel.accessAllowed ? 'block' : 'none';\n",
              "\n",
              "        async function convertToInteractive(key) {\n",
              "          const element = document.querySelector('#df-d57f6ac1-d65d-4e69-a7ec-343f311440d0');\n",
              "          const dataTable =\n",
              "            await google.colab.kernel.invokeFunction('convertToInteractive',\n",
              "                                                     [key], {});\n",
              "          if (!dataTable) return;\n",
              "\n",
              "          const docLinkHtml = 'Like what you see? Visit the ' +\n",
              "            '<a target=\"_blank\" href=https://colab.research.google.com/notebooks/data_table.ipynb>data table notebook</a>'\n",
              "            + ' to learn more about interactive tables.';\n",
              "          element.innerHTML = '';\n",
              "          dataTable['output_type'] = 'display_data';\n",
              "          await google.colab.output.renderOutput(dataTable, element);\n",
              "          const docLink = document.createElement('div');\n",
              "          docLink.innerHTML = docLinkHtml;\n",
              "          element.appendChild(docLink);\n",
              "        }\n",
              "      </script>\n",
              "    </div>\n",
              "  </div>\n",
              "  "
            ]
          },
          "metadata": {},
          "execution_count": 92
        }
      ]
    },
    {
      "cell_type": "code",
      "source": [
        "# Split dataframes as features and labels.\n",
        "x_train, x_test, y_train, y_test = train_df.iloc[:, :-1], test_df.iloc[:, :-1], train_df.iloc[:, -1], test_df.iloc[:, -1]"
      ],
      "metadata": {
        "id": "ZR6PKvGxBGBg"
      },
      "execution_count": null,
      "outputs": []
    },
    {
      "cell_type": "markdown",
      "source": [
        "### ***Run k-NN Algorithm***"
      ],
      "metadata": {
        "id": "kgiiNj7MBGBg"
      }
    },
    {
      "cell_type": "code",
      "source": [
        "# Create a list to store prediction of each test point.\n",
        "y_pred_3 = list()\n",
        "y_pred_5 = list()\n",
        "y_pred_7 = list()\n",
        "\n",
        "# Iterate over test points.\n",
        "for row_index in x_test.index:\n",
        "  \n",
        "  # Predict disease type of each test point according to k value.\n",
        "  prediction_3 = nearest_neighbors(x_train, y_train, x_test.loc[row_index, :], 3)\n",
        "  prediction_5 = nearest_neighbors(x_train, y_train, x_test.loc[row_index, :], 5)\n",
        "  prediction_7 = nearest_neighbors(x_train, y_train, x_test.loc[row_index, :], 7)\n",
        "  \n",
        "  # Add each prediction result to the corresponding list.\n",
        "  y_pred_3.append(prediction_3)\n",
        "  y_pred_5.append(prediction_5)\n",
        "  y_pred_7.append(prediction_7)"
      ],
      "metadata": {
        "id": "n291zvE_BGBg"
      },
      "execution_count": null,
      "outputs": []
    },
    {
      "cell_type": "markdown",
      "source": [
        "### ***Create Confusion Matrix of K-NN Algorithm***"
      ],
      "metadata": {
        "id": "Lssd9zxwBGBg"
      }
    },
    {
      "cell_type": "code",
      "source": [
        "# Create confusion matrix of each k-nn prediction.\n",
        "cm_3 = confusion_matrix(y_test, y_pred_3)\n",
        "cm_5 = confusion_matrix(y_test, y_pred_5)\n",
        "cm_7 = confusion_matrix(y_test, y_pred_7)\n",
        "\n",
        "# Create a dataframe to visualize 3x3 confusion matrix.\n",
        "cm_3_df = pd.DataFrame(cm_3, index = ['COVID','PNEUMONIA', 'NORMAL'], columns = ['COVID','PNEUMONIA','NORMAL'])\n",
        "cm_5_df = pd.DataFrame(cm_5, index = ['COVID','PNEUMONIA', 'NORMAL'], columns = ['COVID','PNEUMONIA','NORMAL'])\n",
        "cm_7_df = pd.DataFrame(cm_7, index = ['COVID','PNEUMONIA', 'NORMAL'], columns = ['COVID','PNEUMONIA','NORMAL'])\n",
        "\n",
        "# Display confusion matrices.\n",
        "confusion_matrix_visualizer(cm_3_df, cm_5_df, cm_7_df)"
      ],
      "metadata": {
        "colab": {
          "base_uri": "https://localhost:8080/",
          "height": 458
        },
        "outputId": "202fd875-075f-4e0c-d514-0b7de2d21786",
        "id": "sxjBXSs4BGBg"
      },
      "execution_count": null,
      "outputs": [
        {
          "output_type": "display_data",
          "data": {
            "text/plain": [
              "<Figure size 1800x504 with 6 Axes>"
            ],
            "image/png": "[encoded data removed]"
          },
          "metadata": {
            "needs_background": "light"
          }
        }
      ]
    },
    {
      "cell_type": "markdown",
      "source": [
        "##### According to Confusion Matrices of model, Pneumonia is the most predictable disease type. Depending on k-value prediction rate of covid and normal people decreases so bigger k-value decreases the model performance. Accuracy of model decreases according to bigger k-value, it shows us smaller k-values gives better true prediction rate for this experiment."
      ],
      "metadata": {
        "id": "S-FsmF0sfHxD"
      }
    },
    {
      "cell_type": "markdown",
      "source": [
        "### ***Compute the Performance of K-NN Model***"
      ],
      "metadata": {
        "id": "bveTWgtoBGBg"
      }
    },
    {
      "cell_type": "code",
      "source": [
        "# Performance of 3-NN Model.\n",
        "print(\"3-NN Model Performance\")\n",
        "model_performance(cm_3_df)\n",
        "\n",
        "# Performance of 5-NN Model.\n",
        "print(\"\\n5-NN Model Performance\")\n",
        "model_performance(cm_5_df)\n",
        "\n",
        "# Performance of 7-NN Model.\n",
        "print(\"\\n7-NN Model Performance\")\n",
        "model_performance(cm_7_df)"
      ],
      "metadata": {
        "colab": {
          "base_uri": "https://localhost:8080/"
        },
        "outputId": "c7c93917-56b4-4b44-83da-c432e12b5abb",
        "id": "92l-XjuGBGBg"
      },
      "execution_count": null,
      "outputs": [
        {
          "output_type": "stream",
          "name": "stdout",
          "text": [
            "3-NN Model Performance\n",
            "Accuracy: 0.7955555555555556\n",
            "Precision: 0.7333562035448828\n",
            "Recall: 0.6933333333333334\n",
            "\n",
            "5-NN Model Performance\n",
            "Accuracy: 0.7777777777777777\n",
            "Precision: 0.730606877674623\n",
            "Recall: 0.6666666666666666\n",
            "\n",
            "7-NN Model Performance\n",
            "Accuracy: 0.7577777777777778\n",
            "Precision: 0.7096748729306869\n",
            "Recall: 0.6366666666666667\n"
          ]
        }
      ]
    },
    {
      "cell_type": "markdown",
      "source": [
        "##### Model Performance decreased as expected for bigger k-values. This shows us to use smaller k is better for this experiment."
      ],
      "metadata": {
        "id": "cfzm-GbLfaF9"
      }
    },
    {
      "cell_type": "markdown",
      "source": [
        "### ***Run Weighted k-NN Algorithm***"
      ],
      "metadata": {
        "id": "Gd9cT4UyBGBg"
      }
    },
    {
      "cell_type": "code",
      "source": [
        "# Create a list to store prediction of each test point.\n",
        "y_pred_3 = list()\n",
        "y_pred_5 = list()\n",
        "y_pred_7 = list()\n",
        "\n",
        "# Iterate over test points.\n",
        "for row_index in x_test.index:\n",
        "  \n",
        "  # Predict disease type of each test point according to k value.\n",
        "  prediction_3 = weighted_nearest_neighbors(x_train, y_train, x_test.loc[row_index, :], 3)\n",
        "  prediction_5 = weighted_nearest_neighbors(x_train, y_train, x_test.loc[row_index, :], 5)\n",
        "  prediction_7 = weighted_nearest_neighbors(x_train, y_train, x_test.loc[row_index, :], 7)\n",
        "  \n",
        "  # Add each prediction result to the corresponding list.\n",
        "  y_pred_3.append(prediction_3)\n",
        "  y_pred_5.append(prediction_5)\n",
        "  y_pred_7.append(prediction_7)"
      ],
      "metadata": {
        "id": "-8Y9IBnpBGBg"
      },
      "execution_count": null,
      "outputs": []
    },
    {
      "cell_type": "markdown",
      "source": [
        "### ***Create Confusion Matrix of Weighted K-NN Algorithm***"
      ],
      "metadata": {
        "id": "d0NCaAwgBGBg"
      }
    },
    {
      "cell_type": "code",
      "source": [
        "# Create confusion matrix of each weighted k-nn prediction.\n",
        "confusion_matrix_3 = confusion_matrix(y_test, y_pred_3)\n",
        "confusion_matrix_5 = confusion_matrix(y_test, y_pred_5)\n",
        "confusion_matrix_7 = confusion_matrix(y_test, y_pred_7)\n",
        "\n",
        "# Create a dataframe to visualize 3x3 confusion matrix.\n",
        "cm_3_df = pd.DataFrame(confusion_matrix_3, index = ['COVID','PNEUMONIA', 'NORMAL'], columns = ['COVID','PNEUMONIA','NORMAL'])\n",
        "cm_5_df = pd.DataFrame(confusion_matrix_5, index = ['COVID','PNEUMONIA', 'NORMAL'], columns = ['COVID','PNEUMONIA','NORMAL'])\n",
        "cm_7_df = pd.DataFrame(confusion_matrix_7, index = ['COVID','PNEUMONIA', 'NORMAL'], columns = ['COVID','PNEUMONIA','NORMAL'])\n",
        "\n",
        "# Display confusion matrices.\n",
        "confusion_matrix_visualizer(cm_3_df, cm_5_df, cm_7_df)"
      ],
      "metadata": {
        "colab": {
          "base_uri": "https://localhost:8080/",
          "height": 458
        },
        "outputId": "c29ecb59-9da4-475a-e732-c0a3f0e5f2b3",
        "id": "VyKgH197BGBg"
      },
      "execution_count": null,
      "outputs": [
        {
          "output_type": "display_data",
          "data": {
            "text/plain": [
              "<Figure size 1800x504 with 6 Axes>"
            ],
            "image/png": "[encoded data removed]"
          },
          "metadata": {
            "needs_background": "light"
          }
        }
      ]
    },
    {
      "cell_type": "markdown",
      "source": [
        "##### According to Confusion Matrices, Pneumonia is the most predictable disease type with weights. Increase on k-value decreases the prediction performance of model so for this experiment smaller k-values is more suitable."
      ],
      "metadata": {
        "id": "_4YdGBMrf3jy"
      }
    },
    {
      "cell_type": "markdown",
      "source": [
        "### ***Compute the Performance of Weighted K-NN Algorithm***"
      ],
      "metadata": {
        "id": "q9ux1XF6BGBg"
      }
    },
    {
      "cell_type": "code",
      "source": [
        "# Performance of weighted 3-NN Model.\n",
        "print(\"3-NN Model Performance\")\n",
        "model_performance(cm_3_df)\n",
        "\n",
        "# Performance of weighted 5-NN Model.\n",
        "print(\"\\n5-NN Model Performance\")\n",
        "model_performance(cm_5_df)\n",
        "\n",
        "# Performance of weighted 7-NN Model.\n",
        "print(\"\\n7-NN Model Performance\")\n",
        "model_performance(cm_7_df)"
      ],
      "metadata": {
        "colab": {
          "base_uri": "https://localhost:8080/"
        },
        "outputId": "202e0c0e-95d4-45d4-b2b0-e443215f7aa4",
        "id": "G6PGqcw1BGBg"
      },
      "execution_count": null,
      "outputs": [
        {
          "output_type": "stream",
          "name": "stdout",
          "text": [
            "3-NN Model Performance\n",
            "Accuracy: 0.7955555555555556\n",
            "Precision: 0.7333562035448828\n",
            "Recall: 0.6933333333333334\n",
            "\n",
            "5-NN Model Performance\n",
            "Accuracy: 0.7733333333333334\n",
            "Precision: 0.7258066052412672\n",
            "Recall: 0.66\n",
            "\n",
            "7-NN Model Performance\n",
            "Accuracy: 0.7577777777777778\n",
            "Precision: 0.7096748729306869\n",
            "Recall: 0.6366666666666667\n"
          ]
        }
      ]
    },
    {
      "cell_type": "markdown",
      "source": [
        "##### Based on model performance, bigger k-value is not suitable for weighted k-nn algorithm on 64x64 images. We need to use smaller k-value to get better result. Accuracy of model decreased because of k-value. Smaller k-values is more suitable for this experiment."
      ],
      "metadata": {
        "id": "UX92I5kggQj4"
      }
    },
    {
      "cell_type": "markdown",
      "source": [
        "### ***Error Analysis***"
      ],
      "metadata": {
        "id": "1ruVji-4oabn"
      }
    },
    {
      "cell_type": "markdown",
      "source": [
        "#### ***Misestimated Images***\n",
        "\n",
        "#### When I investigate the images, some of the images has very big noise. Cables, texts, colored logos etc. are noise for the x-ray images.\n",
        "\n",
        "<br>\n",
        "\n",
        "#### There can be two or more most voted neighbor type. In this situation, different classes has same count of participants in the k-nearest neighbors.\n",
        "* k = 3 means the class of test point will determine by three nearest point.\n",
        "  * Covid - Pneumonia - Normal \n",
        "\n",
        "  can be possible neighbor pair on decision mechanism, each class has only 1 member in the nearest neighbor circle so the algorithm can't decide one of these classes.\n",
        "    \n",
        "* k = 5 means the class of test point will determine by five nearest point. \n",
        "  * Covid(2) - Pneumonia(2) - Normal, \n",
        "  * Covid(2) - Pneumonia - Normal(2), \n",
        "  * Covid - Pneumonia(2) - Normal(2) \n",
        "  \n",
        "  can be possible neighbor pairs on decision mechanism, there is 2 most voted class in neighbor circle so the algorithm can't decide one of these classes.\n",
        "\n",
        "<br> \n",
        "\n",
        "#### Weights of neighbor types can be equal. Give a weight to nearest neighbors distances then calculate total weight of each nearest neighbor class can be solution for first problem. In this situation there can be two or three class with same total weight.\n",
        "\n",
        "* Consider k = 2, two nearest points are Covid and Pneumonia. Algorithm calculates the distances of each point, then both of distances are same so each point will have same weight. As a result, the system can't classify the test point correctly.\n",
        "\n",
        "* Consider k = 3, three nearest points are Covid, Pneumonia and Pneumonia. The k-NN can classify the point as Pneumonia but when the Weighted k-NN Algorithm calculates weights of each class, weights of classes can be equal so Algorithm will stuck.\n",
        "\n",
        "<br>\n",
        "\n",
        "Because of all these reasons, estimation of disease from X-Ray Image getting harder.\n",
        "\n",
        "<br>\n",
        "\n",
        "#### ***Comparison of Performance***\n",
        "\n",
        "##### ***1. Effect of Image Size***\n",
        "\n",
        "###### Large images have more pixels than small images so require more memory and distance calculations. These requirements slow down the algorithm and make memory inefficient. Despite all these disadvantages, it mostly provides higher prediction accuracy.\n",
        "\n",
        "<br>\n",
        "\n",
        "##### ***2. Effect of Gaussian Blur***\n",
        "###### As mentioned in error analysis part, some of the images have certain noises. Gaussian Blur partially helps to get rid of from these noises and focusing the algorithm to lungs.\n",
        "\n",
        "<br>\n",
        "\n",
        "##### ***3. Effect of Threshold Feature***\n",
        "\n",
        "###### I observed the effect of threshold on the prediction accuracy of the algorithm in my experiments where the threshold property was evaluated as argument, canny, and gabor held constant. The threshold property decreases the model accuracy except k = 5 situations for both of the 32x32 and 64x64 image sizes, so use of this feature is not good for make successful predictions on disease detection from x-ray images.\n",
        "\n",
        "<br>\n",
        "\n",
        "##### ***4. Effect of Canny Feature***\n",
        "\n",
        "##### Canny was a fixed feature for my experience because as per the requirements I needed to use 2 fixed features. So, I observed the experiments using only canny but I did not add the result of the experiments to my result table. According to this experiments, canny works on large image sizes much better than smaller images and 50 - 150 gray color range is the better for x-ray images. In my opinion, reason of this situation is edges are more clear on large images with specified color range so the canny detect edges very well and create a more reliable feature set.\n",
        "\n",
        "<br>\n",
        "\n",
        "##### ***5. Effect of Gabor Feature***\n",
        "\n",
        "##### Gabor was a fixed feature for my experience because as per the requirements I needed to use 2 fixed features. So, I observed the experiments using only gabor but I did not add the result of the experiments to my result table. I used different filter sizes, gamma values, sigma values or psi values, but generally the gabor reduced algorithm accuracy without depending on image size. I think it is about viewing angles and noise because when I research images some images are really smooth and noise free but some have wires, text etc. Maybe Gabor is easily affected by these noises, reducing the prediction rate of the model.\n",
        "\n",
        "<br>\n",
        "\n",
        "##### ***6. Effect of k-Value***\n",
        "\n",
        "##### k value is a critical parameter for k-NN and Weighted K-NN because has a directly effect on decision mechanism. In the experiment we observe different effect of k value on different image sizes. The k-value for both of k-NN and Weighted K-NN Algorithms increases the accuracy of model for smaller images which dimensions are 32x32, but decreases the accuracy of model for bigger images which dimensions are 64x64. When we investigate models one by one with observing different k-values, depending on the increase of k-value computation time of all models increase. So, while we decide on optimal k-value for best model we have to consider the size of image and computation time.\n",
        "\n",
        "<br>\n",
        "\n",
        "##### ***7. Effect of Algorithm***\n",
        "###### Most of the experiments k-NN and Weighted k-NN gives the same result for the experiment but for some of the experiments, Weighted k-NN slightly accurate than k-NN. If we consider all experiments algorithmic time of k-NN much faster than Weighted k-NN. As a result, we have to arrange time - performance to optimal for getting better and faster results.\n"
      ],
      "metadata": {
        "id": "3FcWaSY5pgpb"
      }
    },
    {
      "cell_type": "markdown",
      "source": [
        "# BONUS PART - Deep Image Features\n"
      ],
      "metadata": {
        "id": "hgqsbccHoiT2"
      }
    },
    {
      "cell_type": "code",
      "source": [
        "# Import necessary libraries\n",
        "import torch\n",
        "import torch.nn as nn\n",
        "import torchvision.models as models\n",
        "import torchvision.transforms as transforms\n",
        "from torch.autograd import Variable\n",
        "from PIL import Image\n",
        "\n",
        "# Function to extract features with ResNet-18 with images.\n",
        "def resnet_feature_extractor(dataset_type):\n",
        "\n",
        "  # Load the pretrained model.\n",
        "  model = models.resnet18(pretrained=True)\n",
        "\n",
        "  # Use the model object to select the desired layer.\n",
        "  layer = model._modules.get('avgpool')\n",
        "\n",
        "  # Set model to evaluation mode.\n",
        "  model.eval()\n",
        "\n",
        "  # Image transforms.\n",
        "  scaler = transforms.Resize((224, 224))\n",
        "  normalize = transforms.Normalize((0.5), (0.5))\n",
        "  to_tensor = transforms.ToTensor()\n",
        "\n",
        "  # Create a list to hold features of images.\n",
        "  dataset = list()\n",
        "\n",
        "  # Iterate over each image.\n",
        "  for folder in os.listdir(f\"chest_xray/{dataset_type}\"):\n",
        "    for file in os.listdir(f\"chest_xray/{dataset_type}/{folder}\"):\n",
        "\n",
        "      # Load the image with Pillow library.\n",
        "      img = Image.open(f\"chest_xray/{dataset_type}/{folder}/{file}\")\n",
        "\n",
        "      # Create a PyTorch Variable with the transformed image.\n",
        "      t_img = Variable(normalize(to_tensor(scaler(img))).unsqueeze(0))\n",
        "\n",
        "      # Check tensor image suitability for model.\n",
        "      if t_img.shape[1] == 1:\n",
        "        t_img = t_img.repeat(1,3,1,1)\n",
        "      elif t_img.shape[1] != 3:\n",
        "        continue\n",
        "      \n",
        "      # Create a vector of zeros that will hold our feature vector.\n",
        "      # The 'avgpool' layer has an output size of 512.\n",
        "      my_embedding = torch.zeros(512)\n",
        "\n",
        "      # Define a function that will copy the output of a layer.\n",
        "      def copy_data(m, i, o):\n",
        "        my_embedding.copy_(o.data.reshape(o.data.size(1)))\n",
        "\n",
        "      # Attach that function to our selected layer.\n",
        "      h = layer.register_forward_hook(copy_data)\n",
        "\n",
        "      # Run the model on our transformed image.\n",
        "      model(t_img)\n",
        "\n",
        "      # Detach our copy function from the layer.\n",
        "      h.remove()\n",
        "\n",
        "      # Add image and feature vector of it to list.\n",
        "      dataset.append([file, my_embedding.numpy()])\n",
        "  \n",
        "  # Return dataset which contain features of images.\n",
        "  return dataset"
      ],
      "metadata": {
        "id": "zyYMVEI7omP1"
      },
      "execution_count": null,
      "outputs": []
    },
    {
      "cell_type": "code",
      "source": [
        "# Create a dataframe with features of train images which extracted with ResNet18.\n",
        "train_features = pd.DataFrame(resnet_feature_extractor(\"train\"), columns=['Image', \"ResNet-18 Feature\"])\n",
        "\n",
        "# Show first 5 record of dataframe.\n",
        "train_features.head()"
      ],
      "metadata": {
        "colab": {
          "base_uri": "https://localhost:8080/",
          "height": 296
        },
        "id": "GHg8ImKXsSaX",
        "outputId": "eea23467-48e9-47d3-c41a-2a679e9cf4c3"
      },
      "execution_count": null,
      "outputs": [
        {
          "output_type": "stream",
          "name": "stderr",
          "text": [
            "/usr/local/lib/python3.7/dist-packages/torchvision/models/_utils.py:209: UserWarning: The parameter 'pretrained' is deprecated since 0.13 and will be removed in 0.15, please use 'weights' instead.\n",
            "  f\"The parameter '{pretrained_param}' is deprecated since 0.13 and will be removed in 0.15, \"\n",
            "/usr/local/lib/python3.7/dist-packages/torchvision/models/_utils.py:223: UserWarning: Arguments other than a weight enum or `None` for 'weights' are deprecated since 0.13 and will be removed in 0.15. The current behavior is equivalent to passing `weights=ResNet18_Weights.IMAGENET1K_V1`. You can also use `weights=ResNet18_Weights.DEFAULT` to get the most up-to-date weights.\n",
            "  warnings.warn(msg)\n"
          ]
        },
        {
          "output_type": "execute_result",
          "data": {
            "text/plain": [
              "               Image                                  ResNet-18 Feature\n",
              "0   pneumonia-74.jpg  [0.5350552, 0.0, 0.20110124, 3.5082068, 2.1356...\n",
              "1  pneumonia-741.jpg  [0.62585497, 0.00085987325, 0.6378979, 4.55018...\n",
              "2  pneumonia-887.jpg  [0.765121, 0.017880442, 0.18204749, 1.7201076,...\n",
              "3  pneumonia-150.jpg  [0.84387636, 0.006948875, 0.26549533, 1.111751...\n",
              "4    pneumonia-8.jpg  [1.4989121, 0.34509268, 0.92015505, 3.217792, ..."
            ],
            "text/html": [
              "\n",
              "  <div id=\"df-972a67d6-a328-4831-b276-70687e5dd5da\">\n",
              "    <div class=\"colab-df-container\">\n",
              "      <div>\n",
              "<style scoped>\n",
              "    .dataframe tbody tr th:only-of-type {\n",
              "        vertical-align: middle;\n",
              "    }\n",
              "\n",
              "    .dataframe tbody tr th {\n",
              "        vertical-align: top;\n",
              "    }\n",
              "\n",
              "    .dataframe thead th {\n",
              "        text-align: right;\n",
              "    }\n",
              "</style>\n",
              "<table border=\"1\" class=\"dataframe\">\n",
              "  <thead>\n",
              "    <tr style=\"text-align: right;\">\n",
              "      <th></th>\n",
              "      <th>Image</th>\n",
              "      <th>ResNet-18 Feature</th>\n",
              "    </tr>\n",
              "  </thead>\n",
              "  <tbody>\n",
              "    <tr>\n",
              "      <th>0</th>\n",
              "      <td>pneumonia-74.jpg</td>\n",
              "      <td>[0.5350552, 0.0, 0.20110124, 3.5082068, 2.1356...</td>\n",
              "    </tr>\n",
              "    <tr>\n",
              "      <th>1</th>\n",
              "      <td>pneumonia-741.jpg</td>\n",
              "      <td>[0.62585497, 0.00085987325, 0.6378979, 4.55018...</td>\n",
              "    </tr>\n",
              "    <tr>\n",
              "      <th>2</th>\n",
              "      <td>pneumonia-887.jpg</td>\n",
              "      <td>[0.765121, 0.017880442, 0.18204749, 1.7201076,...</td>\n",
              "    </tr>\n",
              "    <tr>\n",
              "      <th>3</th>\n",
              "      <td>pneumonia-150.jpg</td>\n",
              "      <td>[0.84387636, 0.006948875, 0.26549533, 1.111751...</td>\n",
              "    </tr>\n",
              "    <tr>\n",
              "      <th>4</th>\n",
              "      <td>pneumonia-8.jpg</td>\n",
              "      <td>[1.4989121, 0.34509268, 0.92015505, 3.217792, ...</td>\n",
              "    </tr>\n",
              "  </tbody>\n",
              "</table>\n",
              "</div>\n",
              "      <button class=\"colab-df-convert\" onclick=\"convertToInteractive('df-972a67d6-a328-4831-b276-70687e5dd5da')\"\n",
              "              title=\"Convert this dataframe to an interactive table.\"\n",
              "              style=\"display:none;\">\n",
              "        \n",
              "  <svg xmlns=\"http://www.w3.org/2000/svg\" height=\"24px\"viewBox=\"0 0 24 24\"\n",
              "       width=\"24px\">\n",
              "    <path d=\"M0 0h24v24H0V0z\" fill=\"none\"/>\n",
              "    <path d=\"M18.56 5.44l.94 2.06.94-2.06 2.06-.94-2.06-.94-.94-2.06-.94 2.06-2.06.94zm-11 1L8.5 8.5l.94-2.06 2.06-.94-2.06-.94L8.5 2.5l-.94 2.06-2.06.94zm10 10l.94 2.06.94-2.06 2.06-.94-2.06-.94-.94-2.06-.94 2.06-2.06.94z\"/><path d=\"M17.41 7.96l-1.37-1.37c-.4-.4-.92-.59-1.43-.59-.52 0-1.04.2-1.43.59L10.3 9.45l-7.72 7.72c-.78.78-.78 2.05 0 2.83L4 21.41c.39.39.9.59 1.41.59.51 0 1.02-.2 1.41-.59l7.78-7.78 2.81-2.81c.8-.78.8-2.07 0-2.86zM5.41 20L4 18.59l7.72-7.72 1.47 1.35L5.41 20z\"/>\n",
              "  </svg>\n",
              "      </button>\n",
              "      \n",
              "  <style>\n",
              "    .colab-df-container {\n",
              "      display:flex;\n",
              "      flex-wrap:wrap;\n",
              "      gap: 12px;\n",
              "    }\n",
              "\n",
              "    .colab-df-convert {\n",
              "      background-color: #E8F0FE;\n",
              "      border: none;\n",
              "      border-radius: 50%;\n",
              "      cursor: pointer;\n",
              "      display: none;\n",
              "      fill: #1967D2;\n",
              "      height: 32px;\n",
              "      padding: 0 0 0 0;\n",
              "      width: 32px;\n",
              "    }\n",
              "\n",
              "    .colab-df-convert:hover {\n",
              "      background-color: #E2EBFA;\n",
              "      box-shadow: 0px 1px 2px rgba(60, 64, 67, 0.3), 0px 1px 3px 1px rgba(60, 64, 67, 0.15);\n",
              "      fill: #174EA6;\n",
              "    }\n",
              "\n",
              "    [theme=dark] .colab-df-convert {\n",
              "      background-color: #3B4455;\n",
              "      fill: #D2E3FC;\n",
              "    }\n",
              "\n",
              "    [theme=dark] .colab-df-convert:hover {\n",
              "      background-color: #434B5C;\n",
              "      box-shadow: 0px 1px 3px 1px rgba(0, 0, 0, 0.15);\n",
              "      filter: drop-shadow(0px 1px 2px rgba(0, 0, 0, 0.3));\n",
              "      fill: #FFFFFF;\n",
              "    }\n",
              "  </style>\n",
              "\n",
              "      <script>\n",
              "        const buttonEl =\n",
              "          document.querySelector('#df-972a67d6-a328-4831-b276-70687e5dd5da button.colab-df-convert');\n",
              "        buttonEl.style.display =\n",
              "          google.colab.kernel.accessAllowed ? 'block' : 'none';\n",
              "\n",
              "        async function convertToInteractive(key) {\n",
              "          const element = document.querySelector('#df-972a67d6-a328-4831-b276-70687e5dd5da');\n",
              "          const dataTable =\n",
              "            await google.colab.kernel.invokeFunction('convertToInteractive',\n",
              "                                                     [key], {});\n",
              "          if (!dataTable) return;\n",
              "\n",
              "          const docLinkHtml = 'Like what you see? Visit the ' +\n",
              "            '<a target=\"_blank\" href=https://colab.research.google.com/notebooks/data_table.ipynb>data table notebook</a>'\n",
              "            + ' to learn more about interactive tables.';\n",
              "          element.innerHTML = '';\n",
              "          dataTable['output_type'] = 'display_data';\n",
              "          await google.colab.output.renderOutput(dataTable, element);\n",
              "          const docLink = document.createElement('div');\n",
              "          docLink.innerHTML = docLinkHtml;\n",
              "          element.appendChild(docLink);\n",
              "        }\n",
              "      </script>\n",
              "    </div>\n",
              "  </div>\n",
              "  "
            ]
          },
          "metadata": {},
          "execution_count": 101
        }
      ]
    },
    {
      "cell_type": "code",
      "source": [
        "# Create a dataframe with features of test images which extracted with ResNet18.\n",
        "test_features = pd.DataFrame(resnet_feature_extractor(\"test\"), columns=['Image', \"ResNet-18 Feature\"])\n",
        "\n",
        "# Show first 5 record of dataframe.\n",
        "test_features.head()"
      ],
      "metadata": {
        "colab": {
          "base_uri": "https://localhost:8080/",
          "height": 296
        },
        "id": "bgr5rJhdsUZR",
        "outputId": "95491116-4a26-47fb-a5d2-f3cb552a51ff"
      },
      "execution_count": null,
      "outputs": [
        {
          "output_type": "stream",
          "name": "stderr",
          "text": [
            "/usr/local/lib/python3.7/dist-packages/torchvision/models/_utils.py:209: UserWarning: The parameter 'pretrained' is deprecated since 0.13 and will be removed in 0.15, please use 'weights' instead.\n",
            "  f\"The parameter '{pretrained_param}' is deprecated since 0.13 and will be removed in 0.15, \"\n",
            "/usr/local/lib/python3.7/dist-packages/torchvision/models/_utils.py:223: UserWarning: Arguments other than a weight enum or `None` for 'weights' are deprecated since 0.13 and will be removed in 0.15. The current behavior is equivalent to passing `weights=ResNet18_Weights.IMAGENET1K_V1`. You can also use `weights=ResNet18_Weights.DEFAULT` to get the most up-to-date weights.\n",
            "  warnings.warn(msg)\n"
          ]
        },
        {
          "output_type": "execute_result",
          "data": {
            "text/plain": [
              "               Image                                  ResNet-18 Feature\n",
              "0   pneumonia-74.jpg  [0.52738106, 0.0, 0.02759915, 2.118395, 1.5295...\n",
              "1    pneumonia-8.jpg  [0.55987614, 0.0010383796, 0.28360885, 2.57860...\n",
              "2   pneumonia-91.jpg  [0.7248247, 0.064688385, 0.21852027, 2.6654415...\n",
              "3   pneumonia-82.jpg  [0.26749697, 0.0034124535, 0.45393726, 1.62251...\n",
              "4  pneumonia-100.jpg  [0.5303189, 0.016148955, 0.15523246, 3.4639742..."
            ],
            "text/html": [
              "\n",
              "  <div id=\"df-408dca03-b976-45de-bd74-a02648f144be\">\n",
              "    <div class=\"colab-df-container\">\n",
              "      <div>\n",
              "<style scoped>\n",
              "    .dataframe tbody tr th:only-of-type {\n",
              "        vertical-align: middle;\n",
              "    }\n",
              "\n",
              "    .dataframe tbody tr th {\n",
              "        vertical-align: top;\n",
              "    }\n",
              "\n",
              "    .dataframe thead th {\n",
              "        text-align: right;\n",
              "    }\n",
              "</style>\n",
              "<table border=\"1\" class=\"dataframe\">\n",
              "  <thead>\n",
              "    <tr style=\"text-align: right;\">\n",
              "      <th></th>\n",
              "      <th>Image</th>\n",
              "      <th>ResNet-18 Feature</th>\n",
              "    </tr>\n",
              "  </thead>\n",
              "  <tbody>\n",
              "    <tr>\n",
              "      <th>0</th>\n",
              "      <td>pneumonia-74.jpg</td>\n",
              "      <td>[0.52738106, 0.0, 0.02759915, 2.118395, 1.5295...</td>\n",
              "    </tr>\n",
              "    <tr>\n",
              "      <th>1</th>\n",
              "      <td>pneumonia-8.jpg</td>\n",
              "      <td>[0.55987614, 0.0010383796, 0.28360885, 2.57860...</td>\n",
              "    </tr>\n",
              "    <tr>\n",
              "      <th>2</th>\n",
              "      <td>pneumonia-91.jpg</td>\n",
              "      <td>[0.7248247, 0.064688385, 0.21852027, 2.6654415...</td>\n",
              "    </tr>\n",
              "    <tr>\n",
              "      <th>3</th>\n",
              "      <td>pneumonia-82.jpg</td>\n",
              "      <td>[0.26749697, 0.0034124535, 0.45393726, 1.62251...</td>\n",
              "    </tr>\n",
              "    <tr>\n",
              "      <th>4</th>\n",
              "      <td>pneumonia-100.jpg</td>\n",
              "      <td>[0.5303189, 0.016148955, 0.15523246, 3.4639742...</td>\n",
              "    </tr>\n",
              "  </tbody>\n",
              "</table>\n",
              "</div>\n",
              "      <button class=\"colab-df-convert\" onclick=\"convertToInteractive('df-408dca03-b976-45de-bd74-a02648f144be')\"\n",
              "              title=\"Convert this dataframe to an interactive table.\"\n",
              "              style=\"display:none;\">\n",
              "        \n",
              "  <svg xmlns=\"http://www.w3.org/2000/svg\" height=\"24px\"viewBox=\"0 0 24 24\"\n",
              "       width=\"24px\">\n",
              "    <path d=\"M0 0h24v24H0V0z\" fill=\"none\"/>\n",
              "    <path d=\"M18.56 5.44l.94 2.06.94-2.06 2.06-.94-2.06-.94-.94-2.06-.94 2.06-2.06.94zm-11 1L8.5 8.5l.94-2.06 2.06-.94-2.06-.94L8.5 2.5l-.94 2.06-2.06.94zm10 10l.94 2.06.94-2.06 2.06-.94-2.06-.94-.94-2.06-.94 2.06-2.06.94z\"/><path d=\"M17.41 7.96l-1.37-1.37c-.4-.4-.92-.59-1.43-.59-.52 0-1.04.2-1.43.59L10.3 9.45l-7.72 7.72c-.78.78-.78 2.05 0 2.83L4 21.41c.39.39.9.59 1.41.59.51 0 1.02-.2 1.41-.59l7.78-7.78 2.81-2.81c.8-.78.8-2.07 0-2.86zM5.41 20L4 18.59l7.72-7.72 1.47 1.35L5.41 20z\"/>\n",
              "  </svg>\n",
              "      </button>\n",
              "      \n",
              "  <style>\n",
              "    .colab-df-container {\n",
              "      display:flex;\n",
              "      flex-wrap:wrap;\n",
              "      gap: 12px;\n",
              "    }\n",
              "\n",
              "    .colab-df-convert {\n",
              "      background-color: #E8F0FE;\n",
              "      border: none;\n",
              "      border-radius: 50%;\n",
              "      cursor: pointer;\n",
              "      display: none;\n",
              "      fill: #1967D2;\n",
              "      height: 32px;\n",
              "      padding: 0 0 0 0;\n",
              "      width: 32px;\n",
              "    }\n",
              "\n",
              "    .colab-df-convert:hover {\n",
              "      background-color: #E2EBFA;\n",
              "      box-shadow: 0px 1px 2px rgba(60, 64, 67, 0.3), 0px 1px 3px 1px rgba(60, 64, 67, 0.15);\n",
              "      fill: #174EA6;\n",
              "    }\n",
              "\n",
              "    [theme=dark] .colab-df-convert {\n",
              "      background-color: #3B4455;\n",
              "      fill: #D2E3FC;\n",
              "    }\n",
              "\n",
              "    [theme=dark] .colab-df-convert:hover {\n",
              "      background-color: #434B5C;\n",
              "      box-shadow: 0px 1px 3px 1px rgba(0, 0, 0, 0.15);\n",
              "      filter: drop-shadow(0px 1px 2px rgba(0, 0, 0, 0.3));\n",
              "      fill: #FFFFFF;\n",
              "    }\n",
              "  </style>\n",
              "\n",
              "      <script>\n",
              "        const buttonEl =\n",
              "          document.querySelector('#df-408dca03-b976-45de-bd74-a02648f144be button.colab-df-convert');\n",
              "        buttonEl.style.display =\n",
              "          google.colab.kernel.accessAllowed ? 'block' : 'none';\n",
              "\n",
              "        async function convertToInteractive(key) {\n",
              "          const element = document.querySelector('#df-408dca03-b976-45de-bd74-a02648f144be');\n",
              "          const dataTable =\n",
              "            await google.colab.kernel.invokeFunction('convertToInteractive',\n",
              "                                                     [key], {});\n",
              "          if (!dataTable) return;\n",
              "\n",
              "          const docLinkHtml = 'Like what you see? Visit the ' +\n",
              "            '<a target=\"_blank\" href=https://colab.research.google.com/notebooks/data_table.ipynb>data table notebook</a>'\n",
              "            + ' to learn more about interactive tables.';\n",
              "          element.innerHTML = '';\n",
              "          dataTable['output_type'] = 'display_data';\n",
              "          await google.colab.output.renderOutput(dataTable, element);\n",
              "          const docLink = document.createElement('div');\n",
              "          docLink.innerHTML = docLinkHtml;\n",
              "          element.appendChild(docLink);\n",
              "        }\n",
              "      </script>\n",
              "    </div>\n",
              "  </div>\n",
              "  "
            ]
          },
          "metadata": {},
          "execution_count": 102
        }
      ]
    },
    {
      "cell_type": "markdown",
      "source": [
        "# ***REPORT***"
      ],
      "metadata": {
        "id": "QDW_chqfotbE"
      }
    },
    {
      "cell_type": "markdown",
      "source": [
        "\n",
        "## ***Overview of the Problem***\n",
        "\n",
        "### Classification of people as covid, pneumonia or normal based on chest X-Ray images using kNN and Weighted kNN algorithms.\n",
        "\n",
        "<br>\n",
        "\n",
        "## ***Details of Implemented Solution***\n",
        "\n",
        "### 1. Upload the dataset to Google Colab from Google Drive, extract train and test files from zip file.\n",
        "### 2. Read images one by one as gray then resize, extract features with applying Threshold - Canny Edge Detection and Gabor Filter to images. Store all these feature data in dataframe for both of train and test set.\n",
        "### 3. Split the dataframes into features and labels.\n",
        "### 4. Calculate distances according to Euclidean distance of feature arrays.\n",
        "### 5. Predict point with k-NN algorithm according to most voted label in nearest neighbors along different k-values.\n",
        "### 6. Display confusion matrix of k-NN model according to k-value.\n",
        "### 7. Compute the performance of k-NN model.\n",
        "### 8. Predict point with Weighted k-NN algorithm according to total weights of each label which are in nearest neighbors.\n",
        "### 9. Display confusion matrix of Weighted k-NN model according to k-value.\n",
        "### 10. Compute the performance of Weighted k-NN model.\n",
        "\n",
        "<br>\n",
        "\n",
        "## ***Pseudocodes of Algorithms***\n",
        "\n",
        "Distance Algorithm Psuedocode\n",
        "```\n",
        "def euclidean_distance(x_train, test):\n",
        "  list ---> []\n",
        "  for i in x_train:\n",
        "    distance -> sqrt(square(threshold_i - threshold_test) + square(canny_i - canny_test) + square(gabor_i - gabor_test))\n",
        "    add distance to list\n",
        "  list ---> dataframe\n",
        "  return dataframe\n",
        "```\n",
        "\n",
        "<br>\n",
        "\n",
        "K-NN Algorithm Pseudocode\n",
        "```\n",
        "def nearest_neighbors(x_train, y_train, test, K):\n",
        "  nearest_distances <-- euclidean_distance(x_train, test)\n",
        "  most_voted <--- COUNTER(y_train[nearest_distances.index])[0 ---> K]\n",
        "  y_predict = most_voted[0]\n",
        "  return y_predict\n",
        "```\n",
        "\n",
        "<br>\n",
        "\n",
        "Weighted K-NN Algorithm Pseudocode\n",
        "```\n",
        "def weighted_nearest_neighbors(x_train, y_train, test, K):\n",
        "  nearest_distances <-- euclidean_distance(x_train, test)\n",
        "  nearest_distances ---> 1/nearest_distances\n",
        "  weights ---> {}\n",
        "  for i in y_train:\n",
        "    weights[key] exists:\n",
        "      weights[key] += nearest_distances[i]\n",
        "    not exists:\n",
        "      weights[key] = nearest_distances[i]\n",
        "  prediction <--- max(weights)\n",
        "  return prediction\n",
        "```\n",
        "\n",
        "<br>\n",
        "\n",
        "Confusion Matrix Visualizer Algorithm Pseudocode\n",
        "```\n",
        "def confusion_matrix_visualizer(m1, m2, m3):\n",
        "  m1, m2, m3 are confusion matrixes according to k-value.\n",
        "  plot m1, m2, m3\n",
        "```\n",
        "\n",
        "<br>\n",
        "\n",
        "Compute Performance Algorithm Pseudocode\n",
        "```\n",
        "def model_performance(confusion_matrix):\n",
        "  calculate accuracy from confusion matrix for each disease.\n",
        "  calculate precision values from confusion matrix for each disease.\n",
        "  calculate recall values from confusion matrix for each disease.\n",
        "  accuracy = (a_covid + a_pneumonia + a_normal)/ 3\n",
        "  precision = (p_covid + p_pneumonia + p_normal) / 3\n",
        "  recall = (r_covid + r_pneumonia + r_normal) / 3\n",
        "\n",
        "  print precision and recall outputs.\n",
        "```\n",
        "\n",
        "<br>\n",
        "\n",
        "## ***Result Tables***\n",
        "\n",
        "### ***k-NN Algorithm***\n",
        "\n",
        "![Table1](https://drive.google.com/uc?id=1fLbhGDQAdv-4eFLP3Pc3Tl96xfVnGWbP)\n",
        "\n",
        "<br>\n",
        "\n",
        "### ***Weighted k-NN Algorithm***\n",
        "\n",
        "![Table2](https://drive.google.com/uc?id=1wu6CJzCRXoI1gpJwYL9j5lh1ByHx_CR9)"
      ],
      "metadata": {
        "id": "NIFcG7wJz8v2"
      }
    }
  ]
}